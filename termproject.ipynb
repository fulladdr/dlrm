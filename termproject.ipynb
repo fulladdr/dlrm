{
  "cells": [
    {
      "cell_type": "markdown",
      "metadata": {
        "id": "view-in-github",
        "colab_type": "text"
      },
      "source": [
        "<a href=\"https://colab.research.google.com/github/fulladdr/dlrm/blob/main/termproject.ipynb\" target=\"_parent\"><img src=\"https://colab.research.google.com/assets/colab-badge.svg\" alt=\"Open In Colab\"/></a>"
      ]
    },
    {
      "cell_type": "markdown",
      "metadata": {
        "id": "kGJGt5kRVATy"
      },
      "source": [
        "#Setups"
      ]
    },
    {
      "cell_type": "markdown",
      "metadata": {
        "id": "a4u8LUz3VF5Y"
      },
      "source": [
        ""
      ]
    },
    {
      "cell_type": "code",
      "execution_count": null,
      "metadata": {
        "colab": {
          "base_uri": "https://localhost:8080/"
        },
        "id": "iT4iyUTdjtJA",
        "outputId": "aa1c590d-3e5c-4e01-dd05-ea1da5269081"
      },
      "outputs": [
        {
          "output_type": "stream",
          "name": "stdout",
          "text": [
            "conda 4.9.2\n",
            "✨🍰✨ Everything looks OK!\n"
          ]
        }
      ],
      "source": [
        "!conda --version\n",
        "!pip install -q condacolab\n",
        "import condacolab\n",
        "condacolab.install()"
      ]
    },
    {
      "cell_type": "markdown",
      "metadata": {
        "id": "DW54eCLVTIie"
      },
      "source": [
        ""
      ]
    },
    {
      "cell_type": "code",
      "execution_count": null,
      "metadata": {
        "colab": {
          "base_uri": "https://localhost:8080/"
        },
        "id": "JenpAUIEkFwq",
        "outputId": "af7048a4-772c-4e7d-ab17-f0b808b95931"
      },
      "outputs": [
        {
          "output_type": "execute_result",
          "data": {
            "text/plain": [
              "True"
            ]
          },
          "metadata": {},
          "execution_count": 2
        }
      ],
      "source": [
        "import torch\n",
        "a = torch.Tensor([1.])   \n",
        "a.cuda()    \n",
        "from torch.backends import cudnn \n",
        "cudnn.is_acceptable(a.cuda())    "
      ]
    },
    {
      "cell_type": "code",
      "execution_count": null,
      "metadata": {
        "colab": {
          "base_uri": "https://localhost:8080/"
        },
        "id": "X3EztpRuk701",
        "outputId": "77aa6006-c3a8-442e-8efa-32f534e32703"
      },
      "outputs": [
        {
          "output_type": "stream",
          "name": "stdout",
          "text": [
            "--2022-06-12 12:32:10--  https://developer.download.nvidia.com/compute/cuda/11.2.2/local_installers/cuda_11.2.2_460.32.03_linux.run\n",
            "Resolving developer.download.nvidia.com (developer.download.nvidia.com)... 152.195.19.142\n",
            "Connecting to developer.download.nvidia.com (developer.download.nvidia.com)|152.195.19.142|:443... connected.\n",
            "HTTP request sent, awaiting response... 200 OK\n",
            "Length: 3057439068 (2.8G) [application/octet-stream]\n",
            "Saving to: ‘cuda_11.2.2_460.32.03_linux.run’\n",
            "\n",
            "cuda_11.2.2_460.32. 100%[===================>]   2.85G   129MB/s    in 13s     \n",
            "\n",
            "2022-06-12 12:32:23 (218 MB/s) - ‘cuda_11.2.2_460.32.03_linux.run’ saved [3057439068/3057439068]\n",
            "\n"
          ]
        }
      ],
      "source": [
        "!wget https://developer.download.nvidia.com/compute/cuda/11.2.2/local_installers/cuda_11.2.2_460.32.03_linux.run\n"
      ]
    },
    {
      "cell_type": "code",
      "execution_count": null,
      "metadata": {
        "id": "aUN1ENl-lEt0"
      },
      "outputs": [],
      "source": [
        "!sh ./cuda_11.2.2_460.32.03_linux.run --toolkit --silent --override\n"
      ]
    },
    {
      "cell_type": "code",
      "execution_count": null,
      "metadata": {
        "id": "FKDPFE5-lpFj"
      },
      "outputs": [],
      "source": [
        "!ln -s /usr/local/cuda-11.2/targets/x86_64-linux/lib/libnvrtc.so.11.2 /usr/lib64-nvidia/"
      ]
    },
    {
      "cell_type": "code",
      "execution_count": null,
      "metadata": {
        "colab": {
          "base_uri": "https://localhost:8080/",
          "height": 1000
        },
        "id": "TMsAGai47C4P",
        "outputId": "0348f9c9-f27c-4dae-cbd8-9a3675b49eae"
      },
      "outputs": [
        {
          "output_type": "stream",
          "name": "stdout",
          "text": [
            "Looking in indexes: https://pypi.org/simple, https://us-python.pkg.dev/colab-wheels/public/simple/\n",
            "Collecting torchrec-nightly\n",
            "  Downloading torchrec_nightly-2022.4.26-py37-none-any.whl (92.8 MB)\n",
            "\u001b[K     |████████████████████████████████| 92.8 MB 1.2 MB/s \n",
            "\u001b[?25hCollecting Cython\n",
            "  Downloading Cython-0.29.30-cp37-cp37m-manylinux_2_17_x86_64.manylinux2014_x86_64.manylinux_2_24_x86_64.whl (1.9 MB)\n",
            "\u001b[K     |████████████████████████████████| 1.9 MB 63.7 MB/s \n",
            "\u001b[?25hCollecting hypothesis\n",
            "  Downloading hypothesis-6.47.1-py3-none-any.whl (387 kB)\n",
            "\u001b[K     |████████████████████████████████| 387 kB 63.7 MB/s \n",
            "\u001b[?25hCollecting PyYAML\n",
            "  Downloading PyYAML-6.0-cp37-cp37m-manylinux_2_5_x86_64.manylinux1_x86_64.manylinux_2_12_x86_64.manylinux2010_x86_64.whl (596 kB)\n",
            "\u001b[K     |████████████████████████████████| 596 kB 69.8 MB/s \n",
            "\u001b[?25hRequirement already satisfied: idna in /usr/local/lib/python3.7/site-packages (from torchrec-nightly) (2.10)\n",
            "Collecting charset-normalizer\n",
            "  Downloading charset_normalizer-2.0.12-py3-none-any.whl (39 kB)\n",
            "Collecting packaging\n",
            "  Downloading packaging-21.3-py3-none-any.whl (40 kB)\n",
            "\u001b[K     |████████████████████████████████| 40 kB 7.9 MB/s \n",
            "\u001b[?25hCollecting python-dateutil\n",
            "  Downloading python_dateutil-2.8.2-py2.py3-none-any.whl (247 kB)\n",
            "\u001b[K     |████████████████████████████████| 247 kB 70.3 MB/s \n",
            "\u001b[?25hCollecting pyarrow\n",
            "  Downloading pyarrow-8.0.0-cp37-cp37m-manylinux_2_17_x86_64.manylinux2014_x86_64.whl (29.3 MB)\n",
            "\u001b[K     |████████████████████████████████| 29.3 MB 1.2 MB/s \n",
            "\u001b[?25hCollecting numpy\n",
            "  Downloading numpy-1.21.6-cp37-cp37m-manylinux_2_12_x86_64.manylinux2010_x86_64.whl (15.7 MB)\n",
            "\u001b[K     |████████████████████████████████| 15.7 MB 58.0 MB/s \n",
            "\u001b[?25hCollecting typing-inspect\n",
            "  Downloading typing_inspect-0.7.1-py3-none-any.whl (8.4 kB)\n",
            "Collecting docstring-parser\n",
            "  Downloading docstring_parser-0.14.1-py3-none-any.whl (33 kB)\n",
            "Collecting filelock\n",
            "  Downloading filelock-3.7.1-py3-none-any.whl (10 kB)\n",
            "Collecting typing\n",
            "  Downloading typing-3.7.4.3.tar.gz (78 kB)\n",
            "\u001b[K     |████████████████████████████████| 78 kB 7.7 MB/s \n",
            "\u001b[?25hRequirement already satisfied: six in /usr/local/lib/python3.7/site-packages (from torchrec-nightly) (1.15.0)\n",
            "Collecting arrow\n",
            "  Downloading arrow-1.2.2-py3-none-any.whl (64 kB)\n",
            "\u001b[K     |████████████████████████████████| 64 kB 3.5 MB/s \n",
            "\u001b[?25hCollecting iopath\n",
            "  Downloading iopath-0.1.9-py3-none-any.whl (27 kB)\n",
            "Collecting pandas\n",
            "  Downloading pandas-1.3.5-cp37-cp37m-manylinux_2_17_x86_64.manylinux2014_x86_64.whl (11.3 MB)\n",
            "\u001b[K     |████████████████████████████████| 11.3 MB 65.2 MB/s \n",
            "\u001b[?25hCollecting docker\n",
            "  Downloading docker-5.0.3-py2.py3-none-any.whl (146 kB)\n",
            "\u001b[K     |████████████████████████████████| 146 kB 72.7 MB/s \n",
            "\u001b[?25hCollecting portalocker\n",
            "  Downloading portalocker-2.4.0-py2.py3-none-any.whl (16 kB)\n",
            "Collecting websocket-client\n",
            "  Downloading websocket_client-1.3.2-py3-none-any.whl (54 kB)\n",
            "\u001b[K     |████████████████████████████████| 54 kB 3.8 MB/s \n",
            "\u001b[?25hCollecting torchx-nightly\n",
            "  Downloading torchx_nightly-2022.6.12-py3-none-any.whl (177 kB)\n",
            "\u001b[K     |████████████████████████████████| 177 kB 72.1 MB/s \n",
            "\u001b[?25hCollecting scikit-build\n",
            "  Downloading scikit_build-0.15.0-py2.py3-none-any.whl (77 kB)\n",
            "\u001b[K     |████████████████████████████████| 77 kB 8.5 MB/s \n",
            "\u001b[?25hCollecting ninja\n",
            "  Downloading ninja-1.10.2.3-py2.py3-none-manylinux_2_5_x86_64.manylinux1_x86_64.whl (108 kB)\n",
            "\u001b[K     |████████████████████████████████| 108 kB 68.5 MB/s \n",
            "\u001b[?25hRequirement already satisfied: urllib3 in /usr/local/lib/python3.7/site-packages (from torchrec-nightly) (1.26.3)\n",
            "Collecting distro\n",
            "  Downloading distro-1.7.0-py3-none-any.whl (20 kB)\n",
            "Collecting torchmetrics\n",
            "  Downloading torchmetrics-0.9.1-py3-none-any.whl (419 kB)\n",
            "\u001b[K     |████████████████████████████████| 419 kB 68.4 MB/s \n",
            "\u001b[?25hCollecting cmake\n",
            "  Downloading cmake-3.22.5-py2.py3-none-manylinux_2_17_x86_64.manylinux2014_x86_64.whl (22.5 MB)\n",
            "\u001b[K     |████████████████████████████████| 22.5 MB 1.2 MB/s \n",
            "\u001b[?25hCollecting MarkupSafe\n",
            "  Downloading MarkupSafe-2.1.1-cp37-cp37m-manylinux_2_17_x86_64.manylinux2014_x86_64.whl (25 kB)\n",
            "Collecting pyDeprecate\n",
            "  Downloading pyDeprecate-0.3.2-py3-none-any.whl (10 kB)\n",
            "Collecting fsspec\n",
            "  Downloading fsspec-2022.5.0-py3-none-any.whl (140 kB)\n",
            "\u001b[K     |████████████████████████████████| 140 kB 75.6 MB/s \n",
            "\u001b[?25hCollecting pytz\n",
            "  Downloading pytz-2022.1-py2.py3-none-any.whl (503 kB)\n",
            "\u001b[K     |████████████████████████████████| 503 kB 60.6 MB/s \n",
            "\u001b[?25hCollecting mypy-extensions\n",
            "  Downloading mypy_extensions-0.4.3-py2.py3-none-any.whl (4.5 kB)\n",
            "Collecting sortedcontainers\n",
            "  Downloading sortedcontainers-2.4.0-py2.py3-none-any.whl (29 kB)\n",
            "Collecting attrs\n",
            "  Downloading attrs-21.4.0-py2.py3-none-any.whl (60 kB)\n",
            "\u001b[K     |████████████████████████████████| 60 kB 10.1 MB/s \n",
            "\u001b[?25hRequirement already satisfied: tqdm in /usr/local/lib/python3.7/site-packages (from torchrec-nightly) (4.59.0)\n",
            "Collecting pyre-extensions\n",
            "  Downloading pyre_extensions-0.0.27-py3-none-any.whl (12 kB)\n",
            "Collecting Jinja2\n",
            "  Downloading Jinja2-3.1.2-py3-none-any.whl (133 kB)\n",
            "\u001b[K     |████████████████████████████████| 133 kB 70.8 MB/s \n",
            "\u001b[?25hCollecting tabulate\n",
            "  Downloading tabulate-0.8.9-py3-none-any.whl (25 kB)\n",
            "Requirement already satisfied: certifi in /usr/local/lib/python3.7/site-packages (from torchrec-nightly) (2020.12.5)\n",
            "Collecting typing-extensions\n",
            "  Downloading typing_extensions-4.2.0-py3-none-any.whl (24 kB)\n",
            "Requirement already satisfied: requests in /usr/local/lib/python3.7/site-packages (from torchrec-nightly) (2.25.1)\n",
            "Collecting pyparsing\n",
            "  Downloading pyparsing-3.0.9-py3-none-any.whl (98 kB)\n",
            "\u001b[K     |████████████████████████████████| 98 kB 9.8 MB/s \n",
            "\u001b[?25hRequirement already satisfied: chardet<5,>=3.0.2 in /usr/local/lib/python3.7/site-packages (from requests->torchrec-nightly) (4.0.0)\n",
            "Requirement already satisfied: setuptools>=28.0.0 in /usr/local/lib/python3.7/site-packages (from scikit-build->torchrec-nightly) (49.6.0.post20210108)\n",
            "Requirement already satisfied: wheel>=0.29.0 in /usr/local/lib/python3.7/site-packages (from scikit-build->torchrec-nightly) (0.36.2)\n",
            "Collecting torch>=1.3.1\n",
            "  Downloading torch-1.11.0-cp37-cp37m-manylinux1_x86_64.whl (750.6 MB)\n",
            "\u001b[K     |████████████████████████████████| 750.6 MB 11 kB/s \n",
            "\u001b[?25hCollecting importlib-metadata\n",
            "  Downloading importlib_metadata-4.11.4-py3-none-any.whl (18 kB)\n",
            "Collecting docstring-parser\n",
            "  Downloading docstring_parser-0.8.1.tar.gz (14 kB)\n",
            "  Installing build dependencies ... \u001b[?25l\u001b[?25hdone\n",
            "  Getting requirements to build wheel ... \u001b[?25l\u001b[?25hdone\n",
            "    Preparing wheel metadata ... \u001b[?25l\u001b[?25hdone\n",
            "Collecting zipp>=0.5\n",
            "  Downloading zipp-3.8.0-py3-none-any.whl (5.4 kB)\n",
            "Building wheels for collected packages: docstring-parser, typing\n",
            "  Building wheel for docstring-parser (PEP 517) ... \u001b[?25l\u001b[?25hdone\n",
            "  Created wheel for docstring-parser: filename=docstring_parser-0.8.1-py3-none-any.whl size=19662 sha256=a510cef588e84ed0c3c36d81430215f0d7a8adffb26159f32224a6b028811d40\n",
            "  Stored in directory: /root/.cache/pip/wheels/64/11/a5/143eba02bbc268191378c202be131d94b59ca40270bd49dd43\n",
            "  Building wheel for typing (setup.py) ... \u001b[?25l\u001b[?25hdone\n",
            "  Created wheel for typing: filename=typing-3.7.4.3-py3-none-any.whl size=26308 sha256=12945025f56c00287271812f5320abee0f056f35ac50eafbaab72d933719c261\n",
            "  Stored in directory: /root/.cache/pip/wheels/35/f3/15/01aa6571f0a72ee6ae7b827c1491c37a1f72d686fd22b43b0e\n",
            "Successfully built docstring-parser typing\n",
            "Installing collected packages: typing-extensions, mypy-extensions, zipp, websocket-client, typing-inspect, pyparsing, torch, sortedcontainers, PyYAML, pytz, python-dateutil, pyre-extensions, portalocker, packaging, numpy, MarkupSafe, importlib-metadata, fsspec, filelock, docstring-parser, docker, distro, attrs, typing, torchx-nightly, torchmetrics, tabulate, scikit-build, pyDeprecate, pyarrow, pandas, ninja, Jinja2, iopath, hypothesis, Cython, cmake, charset-normalizer, arrow, torchrec-nightly\n",
            "Successfully installed Cython-0.29.30 Jinja2-3.1.2 MarkupSafe-2.1.1 PyYAML-6.0 arrow-1.2.2 attrs-21.4.0 charset-normalizer-2.0.12 cmake-3.22.5 distro-1.7.0 docker-5.0.3 docstring-parser-0.8.1 filelock-3.7.1 fsspec-2022.5.0 hypothesis-6.47.1 importlib-metadata-4.11.4 iopath-0.1.9 mypy-extensions-0.4.3 ninja-1.10.2.3 numpy-1.21.6 packaging-21.3 pandas-1.3.5 portalocker-2.4.0 pyDeprecate-0.3.2 pyarrow-8.0.0 pyparsing-3.0.9 pyre-extensions-0.0.27 python-dateutil-2.8.2 pytz-2022.1 scikit-build-0.15.0 sortedcontainers-2.4.0 tabulate-0.8.9 torch-1.11.0 torchmetrics-0.9.1 torchrec-nightly-2022.4.26 torchx-nightly-2022.6.12 typing-3.7.4.3 typing-extensions-4.2.0 typing-inspect-0.7.1 websocket-client-1.3.2 zipp-3.8.0\n"
          ]
        },
        {
          "output_type": "display_data",
          "data": {
            "application/vnd.colab-display-data+json": {
              "pip_warning": {
                "packages": [
                  "dateutil",
                  "numpy"
                ]
              }
            }
          },
          "metadata": {}
        }
      ],
      "source": [
        "!pip3 install torchrec-nightly"
      ]
    },
    {
      "cell_type": "code",
      "execution_count": null,
      "metadata": {
        "id": "76aGhug6lzgI",
        "colab": {
          "base_uri": "https://localhost:8080/"
        },
        "outputId": "5dc59cfb-3fb0-44fc-a057-89bac1d9aaca"
      },
      "outputs": [
        {
          "output_type": "stream",
          "name": "stdout",
          "text": [
            "Looking in indexes: https://pypi.org/simple, https://us-python.pkg.dev/colab-wheels/public/simple/\n",
            "Collecting git+https://github.com/mlperf/logging.git\n",
            "  Cloning https://github.com/mlperf/logging.git to /tmp/pip-req-build-d23w819r\n",
            "  Running command git clone -q https://github.com/mlperf/logging.git /tmp/pip-req-build-d23w819r\n",
            "Requirement already satisfied: pandas in /usr/local/lib/python3.7/site-packages (1.3.5)\n",
            "Collecting implicit\n",
            "  Downloading implicit-0.5.2-cp37-cp37m-manylinux2014_x86_64.whl (18.5 MB)\n",
            "\u001b[K     |████████████████████████████████| 18.5 MB 617 kB/s \n",
            "\u001b[?25hCollecting sklearn\n",
            "  Downloading sklearn-0.0.tar.gz (1.1 kB)\n",
            "Collecting onnx\n",
            "  Downloading onnx-1.11.0-cp37-cp37m-manylinux_2_12_x86_64.manylinux2010_x86_64.whl (12.8 MB)\n",
            "\u001b[K     |████████████████████████████████| 12.8 MB 50.6 MB/s \n",
            "\u001b[?25hCollecting surgeon-pytorch\n",
            "  Downloading surgeon_pytorch-0.0.4-py3-none-any.whl (6.1 kB)\n",
            "Collecting scipy\n",
            "  Downloading scipy-1.7.3-cp37-cp37m-manylinux_2_12_x86_64.manylinux2010_x86_64.whl (38.1 MB)\n",
            "\u001b[K     |████████████████████████████████| 38.1 MB 259 kB/s \n",
            "\u001b[?25hRequirement already satisfied: pyyaml>=5.4.1 in /usr/local/lib/python3.7/site-packages (from mlperf-logging==2.0.0rc3) (6.0)\n",
            "Requirement already satisfied: numpy>=1.17.3 in /usr/local/lib/python3.7/site-packages (from mlperf-logging==2.0.0rc3) (1.21.6)\n",
            "Requirement already satisfied: python-dateutil>=2.7.3 in /usr/local/lib/python3.7/site-packages (from pandas) (2.8.2)\n",
            "Requirement already satisfied: pytz>=2017.3 in /usr/local/lib/python3.7/site-packages (from pandas) (2022.1)\n",
            "Requirement already satisfied: six>=1.5 in /usr/local/lib/python3.7/site-packages (from python-dateutil>=2.7.3->pandas) (1.15.0)\n",
            "Requirement already satisfied: tqdm>=4.27 in /usr/local/lib/python3.7/site-packages (from implicit) (4.59.0)\n",
            "Collecting protobuf>=3.12.2\n",
            "  Downloading protobuf-4.21.1-cp37-abi3-manylinux2014_x86_64.whl (407 kB)\n",
            "\u001b[K     |████████████████████████████████| 407 kB 65.4 MB/s \n",
            "\u001b[?25hRequirement already satisfied: typing-extensions>=3.6.2.1 in /usr/local/lib/python3.7/site-packages (from onnx) (4.2.0)\n",
            "Collecting scikit-learn\n",
            "  Downloading scikit_learn-1.0.2-cp37-cp37m-manylinux_2_17_x86_64.manylinux2014_x86_64.whl (24.8 MB)\n",
            "\u001b[K     |████████████████████████████████| 24.8 MB 60.7 MB/s \n",
            "\u001b[?25hRequirement already satisfied: torch>=1.6 in /usr/local/lib/python3.7/site-packages (from surgeon-pytorch) (1.11.0)\n",
            "Collecting data-science-types>=0.2\n",
            "  Downloading data_science_types-0.2.23-py3-none-any.whl (42 kB)\n",
            "\u001b[K     |████████████████████████████████| 42 kB 1.8 MB/s \n",
            "\u001b[?25hCollecting threadpoolctl>=2.0.0\n",
            "  Downloading threadpoolctl-3.1.0-py3-none-any.whl (14 kB)\n",
            "Collecting joblib>=0.11\n",
            "  Downloading joblib-1.1.0-py2.py3-none-any.whl (306 kB)\n",
            "\u001b[K     |████████████████████████████████| 306 kB 72.2 MB/s \n",
            "\u001b[?25hBuilding wheels for collected packages: mlperf-logging, sklearn\n",
            "  Building wheel for mlperf-logging (setup.py) ... \u001b[?25l\u001b[?25hdone\n",
            "  Created wheel for mlperf-logging: filename=mlperf_logging-2.0.0rc3-py3-none-any.whl size=143375 sha256=f099b7eb50b654dc37419e6780185302eb6ba88da82be43083ded182a592f32f\n",
            "  Stored in directory: /tmp/pip-ephem-wheel-cache-l0lbaad4/wheels/f9/97/f4/74948f8a139b5297946ff6fd145b4fb6dd2223bef36b50ca8d\n",
            "  Building wheel for sklearn (setup.py) ... \u001b[?25l\u001b[?25hdone\n",
            "  Created wheel for sklearn: filename=sklearn-0.0-py2.py3-none-any.whl size=1316 sha256=2e2d476806cb1fe7e2f67188de075fbb976e810c734cabc3e9fc0c59f29c9b7d\n",
            "  Stored in directory: /root/.cache/pip/wheels/46/ef/c3/157e41f5ee1372d1be90b09f74f82b10e391eaacca8f22d33e\n",
            "Successfully built mlperf-logging sklearn\n",
            "Installing collected packages: threadpoolctl, scipy, joblib, scikit-learn, protobuf, data-science-types, surgeon-pytorch, sklearn, onnx, mlperf-logging, implicit\n",
            "Successfully installed data-science-types-0.2.23 implicit-0.5.2 joblib-1.1.0 mlperf-logging-2.0.0rc3 onnx-1.11.0 protobuf-4.21.1 scikit-learn-1.0.2 scipy-1.7.3 sklearn-0.0 surgeon-pytorch-0.0.4 threadpoolctl-3.1.0\n"
          ]
        }
      ],
      "source": [
        "!pip3 install pandas implicit sklearn onnx \"git+https://github.com/mlperf/logging.git\" surgeon-pytorch pandas scipy"
      ]
    },
    {
      "cell_type": "markdown",
      "metadata": {
        "id": "gYxviD-DYKuX"
      },
      "source": [
        "#1. Recommendation Models"
      ]
    },
    {
      "cell_type": "markdown",
      "metadata": {
        "id": "Xn8m_KkOYycz"
      },
      "source": [
        "##1.2 DLRM"
      ]
    },
    {
      "cell_type": "code",
      "execution_count": null,
      "metadata": {
        "colab": {
          "base_uri": "https://localhost:8080/"
        },
        "id": "YeTjpdPqnOI7",
        "outputId": "619e464c-69e6-4e5b-b7dd-78818569da10"
      },
      "outputs": [
        {
          "output_type": "stream",
          "name": "stdout",
          "text": [
            "Cloning into 'dlrm'...\n",
            "remote: Enumerating objects: 609, done.\u001b[K\n",
            "remote: Counting objects: 100% (31/31), done.\u001b[K\n",
            "remote: Compressing objects: 100% (18/18), done.\u001b[K\n",
            "remote: Total 609 (delta 15), reused 28 (delta 13), pack-reused 578\u001b[K\n",
            "Receiving objects: 100% (609/609), 1.33 MiB | 8.22 MiB/s, done.\n",
            "Resolving deltas: 100% (356/356), done.\n"
          ]
        }
      ],
      "source": [
        "!git clone https://github.com/facebookresearch/dlrm"
      ]
    },
    {
      "cell_type": "code",
      "execution_count": null,
      "metadata": {
        "colab": {
          "base_uri": "https://localhost:8080/"
        },
        "id": "5IgqJ0MAnOKb",
        "outputId": "b3d29810-521e-4d08-9ba7-dd28391fcabb"
      },
      "outputs": [
        {
          "output_type": "stream",
          "name": "stdout",
          "text": [
            "/content/dlrm\n"
          ]
        }
      ],
      "source": [
        "cd /content/dlrm"
      ]
    },
    {
      "cell_type": "code",
      "source": [
        "!pip install --upgrade \"protobuf<=3.20.1\""
      ],
      "metadata": {
        "colab": {
          "base_uri": "https://localhost:8080/"
        },
        "id": "LpL6p45WXDwW",
        "outputId": "efd2b0d7-c6cd-433a-8f70-a64cce3a2af1"
      },
      "execution_count": null,
      "outputs": [
        {
          "output_type": "stream",
          "name": "stdout",
          "text": [
            "Looking in indexes: https://pypi.org/simple, https://us-python.pkg.dev/colab-wheels/public/simple/\n",
            "Collecting protobuf<=3.20.1\n",
            "  Downloading protobuf-3.20.1-cp37-cp37m-manylinux_2_5_x86_64.manylinux1_x86_64.whl (1.0 MB)\n",
            "\u001b[K     |████████████████████████████████| 1.0 MB 4.6 MB/s \n",
            "\u001b[?25hInstalling collected packages: protobuf\n",
            "  Attempting uninstall: protobuf\n",
            "    Found existing installation: protobuf 4.21.1\n",
            "    Uninstalling protobuf-4.21.1:\n",
            "      Successfully uninstalled protobuf-4.21.1\n",
            "Successfully installed protobuf-3.20.1\n"
          ]
        }
      ]
    },
    {
      "cell_type": "code",
      "source": [
        "!pip3 install tensorboard humanize psutil GPUtil"
      ],
      "metadata": {
        "colab": {
          "base_uri": "https://localhost:8080/"
        },
        "id": "bt_2hqFGF_SD",
        "outputId": "6105b561-d2df-4c2f-f77a-4125d7a6ea6d"
      },
      "execution_count": null,
      "outputs": [
        {
          "output_type": "stream",
          "name": "stdout",
          "text": [
            "Looking in indexes: https://pypi.org/simple, https://us-python.pkg.dev/colab-wheels/public/simple/\n",
            "Collecting tensorboard\n",
            "  Downloading tensorboard-2.9.1-py3-none-any.whl (5.8 MB)\n",
            "\u001b[K     |████████████████████████████████| 5.8 MB 4.8 MB/s \n",
            "\u001b[?25hCollecting humanize\n",
            "  Downloading humanize-4.1.0-py3-none-any.whl (101 kB)\n",
            "\u001b[K     |████████████████████████████████| 101 kB 12.7 MB/s \n",
            "\u001b[?25hCollecting psutil\n",
            "  Downloading psutil-5.9.1-cp37-cp37m-manylinux_2_12_x86_64.manylinux2010_x86_64.manylinux_2_17_x86_64.manylinux2014_x86_64.whl (281 kB)\n",
            "\u001b[K     |████████████████████████████████| 281 kB 70.1 MB/s \n",
            "\u001b[?25hCollecting GPUtil\n",
            "  Downloading GPUtil-1.4.0.tar.gz (5.5 kB)\n",
            "Requirement already satisfied: importlib-metadata in /usr/local/lib/python3.7/site-packages (from humanize) (4.11.4)\n",
            "Collecting tensorboard-plugin-wit>=1.6.0\n",
            "  Downloading tensorboard_plugin_wit-1.8.1-py3-none-any.whl (781 kB)\n",
            "\u001b[K     |████████████████████████████████| 781 kB 52.0 MB/s \n",
            "\u001b[?25hCollecting tensorboard-data-server<0.7.0,>=0.6.0\n",
            "  Downloading tensorboard_data_server-0.6.1-py3-none-manylinux2010_x86_64.whl (4.9 MB)\n",
            "\u001b[K     |████████████████████████████████| 4.9 MB 33.2 MB/s \n",
            "\u001b[?25hCollecting google-auth<3,>=1.6.3\n",
            "  Downloading google_auth-2.7.0-py2.py3-none-any.whl (160 kB)\n",
            "\u001b[K     |████████████████████████████████| 160 kB 66.1 MB/s \n",
            "\u001b[?25hCollecting protobuf<3.20,>=3.9.2\n",
            "  Downloading protobuf-3.19.4-cp37-cp37m-manylinux_2_17_x86_64.manylinux2014_x86_64.whl (1.1 MB)\n",
            "\u001b[K     |████████████████████████████████| 1.1 MB 49.0 MB/s \n",
            "\u001b[?25hCollecting grpcio>=1.24.3\n",
            "  Downloading grpcio-1.46.3-cp37-cp37m-manylinux_2_17_x86_64.manylinux2014_x86_64.whl (4.4 MB)\n",
            "\u001b[K     |████████████████████████████████| 4.4 MB 34.8 MB/s \n",
            "\u001b[?25hCollecting markdown>=2.6.8\n",
            "  Downloading Markdown-3.3.7-py3-none-any.whl (97 kB)\n",
            "\u001b[K     |████████████████████████████████| 97 kB 5.0 MB/s \n",
            "\u001b[?25hRequirement already satisfied: numpy>=1.12.0 in /usr/local/lib/python3.7/site-packages (from tensorboard) (1.21.6)\n",
            "Requirement already satisfied: wheel>=0.26 in /usr/local/lib/python3.7/site-packages (from tensorboard) (0.36.2)\n",
            "Requirement already satisfied: setuptools>=41.0.0 in /usr/local/lib/python3.7/site-packages (from tensorboard) (49.6.0.post20210108)\n",
            "Collecting google-auth-oauthlib<0.5,>=0.4.1\n",
            "  Downloading google_auth_oauthlib-0.4.6-py2.py3-none-any.whl (18 kB)\n",
            "Collecting absl-py>=0.4\n",
            "  Downloading absl_py-1.1.0-py3-none-any.whl (123 kB)\n",
            "\u001b[K     |████████████████████████████████| 123 kB 70.8 MB/s \n",
            "\u001b[?25hRequirement already satisfied: requests<3,>=2.21.0 in /usr/local/lib/python3.7/site-packages (from tensorboard) (2.25.1)\n",
            "Collecting werkzeug>=1.0.1\n",
            "  Downloading Werkzeug-2.1.2-py3-none-any.whl (224 kB)\n",
            "\u001b[K     |████████████████████████████████| 224 kB 70.8 MB/s \n",
            "\u001b[?25hRequirement already satisfied: six>=1.9.0 in /usr/local/lib/python3.7/site-packages (from google-auth<3,>=1.6.3->tensorboard) (1.15.0)\n",
            "Collecting rsa<5,>=3.1.4\n",
            "  Downloading rsa-4.8-py3-none-any.whl (39 kB)\n",
            "Collecting pyasn1-modules>=0.2.1\n",
            "  Downloading pyasn1_modules-0.2.8-py2.py3-none-any.whl (155 kB)\n",
            "\u001b[K     |████████████████████████████████| 155 kB 75.3 MB/s \n",
            "\u001b[?25hCollecting cachetools<6.0,>=2.0.0\n",
            "  Downloading cachetools-5.2.0-py3-none-any.whl (9.3 kB)\n",
            "Collecting requests-oauthlib>=0.7.0\n",
            "  Downloading requests_oauthlib-1.3.1-py2.py3-none-any.whl (23 kB)\n",
            "Requirement already satisfied: zipp>=0.5 in /usr/local/lib/python3.7/site-packages (from importlib-metadata->humanize) (3.8.0)\n",
            "Requirement already satisfied: typing-extensions>=3.6.4 in /usr/local/lib/python3.7/site-packages (from importlib-metadata->humanize) (4.2.0)\n",
            "Collecting pyasn1<0.5.0,>=0.4.6\n",
            "  Downloading pyasn1-0.4.8-py2.py3-none-any.whl (77 kB)\n",
            "\u001b[K     |████████████████████████████████| 77 kB 7.4 MB/s \n",
            "\u001b[?25hRequirement already satisfied: certifi>=2017.4.17 in /usr/local/lib/python3.7/site-packages (from requests<3,>=2.21.0->tensorboard) (2020.12.5)\n",
            "Requirement already satisfied: idna<3,>=2.5 in /usr/local/lib/python3.7/site-packages (from requests<3,>=2.21.0->tensorboard) (2.10)\n",
            "Requirement already satisfied: urllib3<1.27,>=1.21.1 in /usr/local/lib/python3.7/site-packages (from requests<3,>=2.21.0->tensorboard) (1.26.3)\n",
            "Requirement already satisfied: chardet<5,>=3.0.2 in /usr/local/lib/python3.7/site-packages (from requests<3,>=2.21.0->tensorboard) (4.0.0)\n",
            "Collecting oauthlib>=3.0.0\n",
            "  Downloading oauthlib-3.2.0-py3-none-any.whl (151 kB)\n",
            "\u001b[K     |████████████████████████████████| 151 kB 71.9 MB/s \n",
            "\u001b[?25hBuilding wheels for collected packages: GPUtil\n",
            "  Building wheel for GPUtil (setup.py) ... \u001b[?25l\u001b[?25hdone\n",
            "  Created wheel for GPUtil: filename=GPUtil-1.4.0-py3-none-any.whl size=7410 sha256=d3b45036bc2191ee5d765439c55f1484416adda7d6fc1451376e89a5e5654789\n",
            "  Stored in directory: /root/.cache/pip/wheels/6e/f8/83/534c52482d6da64622ddbf72cd93c35d2ef2881b78fd08ff0c\n",
            "Successfully built GPUtil\n",
            "Installing collected packages: pyasn1, rsa, pyasn1-modules, oauthlib, cachetools, requests-oauthlib, google-auth, werkzeug, tensorboard-plugin-wit, tensorboard-data-server, protobuf, markdown, grpcio, google-auth-oauthlib, absl-py, tensorboard, psutil, humanize, GPUtil\n",
            "  Attempting uninstall: protobuf\n",
            "    Found existing installation: protobuf 3.20.1\n",
            "    Uninstalling protobuf-3.20.1:\n",
            "      Successfully uninstalled protobuf-3.20.1\n",
            "Successfully installed GPUtil-1.4.0 absl-py-1.1.0 cachetools-5.2.0 google-auth-2.7.0 google-auth-oauthlib-0.4.6 grpcio-1.46.3 humanize-4.1.0 markdown-3.3.7 oauthlib-3.2.0 protobuf-3.19.4 psutil-5.9.1 pyasn1-0.4.8 pyasn1-modules-0.2.8 requests-oauthlib-1.3.1 rsa-4.8 tensorboard-2.9.1 tensorboard-data-server-0.6.1 tensorboard-plugin-wit-1.8.1 werkzeug-2.1.2\n"
          ]
        }
      ]
    },
    {
      "cell_type": "code",
      "execution_count": null,
      "metadata": {
        "id": "XBLIZt1onSgn",
        "colab": {
          "base_uri": "https://localhost:8080/"
        },
        "outputId": "de77af6e-c43c-4f16-f7b7-3d5c89942617"
      },
      "outputs": [
        {
          "output_type": "stream",
          "name": "stdout",
          "text": [
            "CPU RAM Free: 9.4 GB\n",
            "GPU 0 ... Mem Free: 13859MB / 15109MB | Utilization   8%\n"
          ]
        }
      ],
      "source": [
        "import dlrm_s_pytorch as s\n",
        "import numpy as np"
      ]
    },
    {
      "cell_type": "code",
      "execution_count": null,
      "metadata": {
        "colab": {
          "base_uri": "https://localhost:8080/"
        },
        "id": "_mkDz0JendCY",
        "outputId": "e814a5f1-1289-4b8b-910f-840ddedf179f"
      },
      "outputs": [
        {
          "output_type": "stream",
          "name": "stdout",
          "text": [
            "world size: 1, current rank: 0, local rank: 0\n",
            "Using 1 GPU(s)...\n",
            "time/loss/accuracy (if enabled):\n",
            "Finished training it 1/5 of epoch 0, -1.00 ms/it, loss 0.122996\n",
            "Finished training it 2/5 of epoch 0, -1.00 ms/it, loss 0.121930\n",
            "Traceback (most recent call last):\n",
            "  File \"/usr/local/lib/python3.7/site-packages/torch/utils/data/dataloader.py\", line 530, in __next__\n",
            "    data = self._next_data()\n",
            "  File \"/usr/local/lib/python3.7/site-packages/torch/utils/data/dataloader.py\", line 570, in _next_data\n",
            "    data = self._dataset_fetcher.fetch(index)  # may raise StopIteration\n",
            "  File \"/usr/local/lib/python3.7/site-packages/torch/utils/data/_utils/fetch.py\", line 49, in fetch\n",
            "    data = [self.dataset[idx] for idx in possibly_batched_index]\n",
            "  File \"/usr/local/lib/python3.7/site-packages/torch/utils/data/_utils/fetch.py\", line 49, in <listcomp>\n",
            "    data = [self.dataset[idx] for idx in possibly_batched_index]\n",
            "  File \"/content/dlrm/dlrm_data_pytorch.py\", line 661, in __getitem__\n",
            "    rand_data_sigma=self.rand_data_sigma,\n",
            "  File \"/content/dlrm/dlrm_data_pytorch.py\", line 941, in generate_dist_input_batch\n",
            "    np.round(max([1.0], r * min(size, num_indices_per_lookup)))\n",
            "KeyboardInterrupt\n",
            "\n",
            "During handling of the above exception, another exception occurred:\n",
            "\n",
            "Traceback (most recent call last):\n",
            "  File \"dlrm_s_pytorch.py\", line 1887, in <module>\n",
            "    run()\n",
            "  File \"dlrm_s_pytorch.py\", line 1527, in run\n",
            "    for j, inputBatch in enumerate(train_ld):\n",
            "  File \"/usr/local/lib/python3.7/site-packages/torch/utils/data/dataloader.py\", line 543, in __next__\n",
            "    return data\n",
            "  File \"/usr/local/lib/python3.7/site-packages/torch/autograd/profiler.py\", line 439, in __exit__\n",
            "    def __exit__(self, exc_type: Any, exc_value: Any, traceback: Any):\n",
            "KeyboardInterrupt\n"
          ]
        }
      ],
      "source": [
        "!python dlrm_s_pytorch.py --arch-sparse-feature-size=128 --arch-embedding-size=\"1000000-1000000\" --arch-mlp-bot=\"13-256-128\" --arch-mlp-top=\"131-128-64-32-16-8-4-1\" \\\n",
        "                          --data-generation random --mini-batch-size=20000 --data-size=100000 \\\n",
        "                          --use-gpu"
      ]
    },
    {
      "cell_type": "markdown",
      "metadata": {
        "id": "bSAk8FnXZMyh"
      },
      "source": [
        "###Embedding table compression techniques"
      ]
    },
    {
      "cell_type": "code",
      "execution_count": null,
      "metadata": {
        "id": "nv6FgtoKQUEc"
      },
      "outputs": [],
      "source": [
        "import torch"
      ]
    },
    {
      "cell_type": "code",
      "execution_count": null,
      "metadata": {
        "id": "tiwDglounmpv"
      },
      "outputs": [],
      "source": [
        "import tricks.qr_embedding_bag as qr"
      ]
    },
    {
      "cell_type": "code",
      "execution_count": null,
      "metadata": {
        "colab": {
          "base_uri": "https://localhost:8080/"
        },
        "id": "s7hWaGJensVP",
        "outputId": "1f308e2e-f133-4f26-8638-c04e799dec65"
      },
      "outputs": [
        {
          "output_type": "stream",
          "name": "stdout",
          "text": [
            "world size: 1, current rank: 0, local rank: 0\n",
            "Using 1 GPU(s)...\n",
            "time/loss/accuracy (if enabled):\n",
            "Finished training it 1/5 of epoch 0, -1.00 ms/it, loss 0.304659\n",
            "Finished training it 2/5 of epoch 0, -1.00 ms/it, loss 0.275541\n",
            "Finished training it 3/5 of epoch 0, -1.00 ms/it, loss 0.281774\n",
            "Finished training it 4/5 of epoch 0, -1.00 ms/it, loss 0.327932\n",
            "Finished training it 5/5 of epoch 0, -1.00 ms/it, loss 0.204584\n",
            "CPU RAM Free: 7.8 GB\n",
            "GPU 0 ... Mem Free: 12868MB / 15109MB | Utilization  15%\n"
          ]
        }
      ],
      "source": [
        "!python dlrm_s_pytorch.py --arch-sparse-feature-size=128 --arch-embedding-size=\"100-100\" --arch-mlp-bot=\"13-256-128\" --arch-mlp-top=\"131-128-64-32-16-8-4-1\" \\\n",
        "                          --data-generation random --mini-batch-size=20 --data-size=100 \\\n",
        "                          --use-gpu \\\n",
        "                          --qr-flag --qr-threshold 10 --qr-operation mult --qr-collisions 100"
      ]
    },
    {
      "cell_type": "code",
      "source": [
        "!python dlrm_s_pytorch.py --arch-sparse-feature-size=128 --arch-embedding-size=\"100-100\" --arch-mlp-bot=\"13-256-128\" --arch-mlp-top=\"131-128-64-32-16-8-4-1\" \\\n",
        "                          --data-generation random --mini-batch-size=200 --data-size=1000 \\\n",
        "                          --use-gpu \\\n",
        "                          --qr-flag --qr-threshold 10 --qr-operation mult --qr-collisions 100"
      ],
      "metadata": {
        "colab": {
          "base_uri": "https://localhost:8080/"
        },
        "id": "gIjuvouY_Mp5",
        "outputId": "e9f786d2-886b-4116-bbc3-793d58c1f22e"
      },
      "execution_count": null,
      "outputs": [
        {
          "output_type": "stream",
          "name": "stdout",
          "text": [
            "world size: 1, current rank: 0, local rank: 0\n",
            "Using 1 GPU(s)...\n",
            "time/loss/accuracy (if enabled):\n",
            "\n",
            "matrix 1\n",
            "tensor([0, 0, 0,  ..., 0, 0, 0], device='cuda:0')\n",
            "tensor([0, 0, 1,  ..., 0, 1, 1], device='cuda:0')\n",
            "\n",
            "matrix 1\n",
            "../aten/src/ATen/native/cuda/EmbeddingBag.cu:122: EmbeddingBag_updateOutputKernel_sum_mean: block: [38,0,0], thread: [0,6,0] Assertion `input[emb] >= 0 && input[emb] < vocab_size` failed.\n",
            "../aten/src/ATen/native/cuda/EmbeddingBag.cu:122: EmbeddingBag_updateOutputKernel_sum_mean: block: [38,0,0], thread: [1,6,0] Assertion `input[emb] >= 0 && input[emb] < vocab_size` failed.\n",
            "../aten/src/ATen/native/cuda/EmbeddingBag.cu:122: EmbeddingBag_updateOutputKernel_sum_mean: block: [38,0,0], thread: [2,6,0] Assertion `input[emb] >= 0 && input[emb] < vocab_size` failed.\n",
            "../aten/src/ATen/native/cuda/EmbeddingBag.cu:122: EmbeddingBag_updateOutputKernel_sum_mean: block: [38,0,0], thread: [3,6,0] Assertion `input[emb] >= 0 && input[emb] < vocab_size` failed.\n",
            "../aten/src/ATen/native/cuda/EmbeddingBag.cu:122: EmbeddingBag_updateOutputKernel_sum_mean: block: [38,0,0], thread: [4,6,0] Assertion `input[emb] >= 0 && input[emb] < vocab_size` failed.\n",
            "../aten/src/ATen/native/cuda/EmbeddingBag.cu:122: EmbeddingBag_updateOutputKernel_sum_mean: block: [38,0,0], thread: [5,6,0] Assertion `input[emb] >= 0 && input[emb] < vocab_size` failed.\n",
            "../aten/src/ATen/native/cuda/EmbeddingBag.cu:122: EmbeddingBag_updateOutputKernel_sum_mean: block: [38,0,0], thread: [6,6,0] Assertion `input[emb] >= 0 && input[emb] < vocab_size` failed.\n",
            "../aten/src/ATen/native/cuda/EmbeddingBag.cu:122: EmbeddingBag_updateOutputKernel_sum_mean: block: [38,0,0], thread: [7,6,0] Assertion `input[emb] >= 0 && input[emb] < vocab_size` failed.\n",
            "../aten/src/ATen/native/cuda/EmbeddingBag.cu:122: EmbeddingBag_updateOutputKernel_sum_mean: block: [38,0,0], thread: [8,6,0] Assertion `input[emb] >= 0 && input[emb] < vocab_size` failed.\n",
            "../aten/src/ATen/native/cuda/EmbeddingBag.cu:122: EmbeddingBag_updateOutputKernel_sum_mean: block: [38,0,0], thread: [9,6,0] Assertion `input[emb] >= 0 && input[emb] < vocab_size` failed.\n",
            "../aten/src/ATen/native/cuda/EmbeddingBag.cu:122: EmbeddingBag_updateOutputKernel_sum_mean: block: [38,0,0], thread: [10,6,0] Assertion `input[emb] >= 0 && input[emb] < vocab_size` failed.\n",
            "../aten/src/ATen/native/cuda/EmbeddingBag.cu:122: EmbeddingBag_updateOutputKernel_sum_mean: block: [38,0,0], thread: [11,6,0] Assertion `input[emb] >= 0 && input[emb] < vocab_size` failed.\n",
            "../aten/src/ATen/native/cuda/EmbeddingBag.cu:122: EmbeddingBag_updateOutputKernel_sum_mean: block: [38,0,0], thread: [12,6,0] Assertion `input[emb] >= 0 && input[emb] < vocab_size` failed.\n",
            "../aten/src/ATen/native/cuda/EmbeddingBag.cu:122: EmbeddingBag_updateOutputKernel_sum_mean: block: [38,0,0], thread: [13,6,0] Assertion `input[emb] >= 0 && input[emb] < vocab_size` failed.\n",
            "../aten/src/ATen/native/cuda/EmbeddingBag.cu:122: EmbeddingBag_updateOutputKernel_sum_mean: block: [38,0,0], thread: [14,6,0] Assertion `input[emb] >= 0 && input[emb] < vocab_size` failed.\n",
            "../aten/src/ATen/native/cuda/EmbeddingBag.cu:122: EmbeddingBag_updateOutputKernel_sum_mean: block: [38,0,0], thread: [15,6,0] Assertion `input[emb] >= 0 && input[emb] < vocab_size` failed.\n",
            "../aten/src/ATen/native/cuda/EmbeddingBag.cu:122: EmbeddingBag_updateOutputKernel_sum_mean: block: [38,0,0], thread: [16,6,0] Assertion `input[emb] >= 0 && input[emb] < vocab_size` failed.\n",
            "../aten/src/ATen/native/cuda/EmbeddingBag.cu:122: EmbeddingBag_updateOutputKernel_sum_mean: block: [38,0,0], thread: [17,6,0] Assertion `input[emb] >= 0 && input[emb] < vocab_size` failed.\n",
            "../aten/src/ATen/native/cuda/EmbeddingBag.cu:122: EmbeddingBag_updateOutputKernel_sum_mean: block: [38,0,0], thread: [18,6,0] Assertion `input[emb] >= 0 && input[emb] < vocab_size` failed.\n",
            "../aten/src/ATen/native/cuda/EmbeddingBag.cu:122: EmbeddingBag_updateOutputKernel_sum_mean: block: [38,0,0], thread: [19,6,0] Assertion `input[emb] >= 0 && input[emb] < vocab_size` failed.\n",
            "../aten/src/ATen/native/cuda/EmbeddingBag.cu:122: EmbeddingBag_updateOutputKernel_sum_mean: block: [38,0,0], thread: [20,6,0] Assertion `input[emb] >= 0 && input[emb] < vocab_size` failed.\n",
            "../aten/src/ATen/native/cuda/EmbeddingBag.cu:122: EmbeddingBag_updateOutputKernel_sum_mean: block: [38,0,0], thread: [21,6,0] Assertion `input[emb] >= 0 && input[emb] < vocab_size` failed.\n",
            "../aten/src/ATen/native/cuda/EmbeddingBag.cu:122: EmbeddingBag_updateOutputKernel_sum_mean: block: [38,0,0], thread: [22,6,0] Assertion `input[emb] >= 0 && input[emb] < vocab_size` failed.\n",
            "../aten/src/ATen/native/cuda/EmbeddingBag.cu:122: EmbeddingBag_updateOutputKernel_sum_mean: block: [38,0,0], thread: [23,6,0] Assertion `input[emb] >= 0 && input[emb] < vocab_size` failed.\n",
            "../aten/src/ATen/native/cuda/EmbeddingBag.cu:122: EmbeddingBag_updateOutputKernel_sum_mean: block: [38,0,0], thread: [24,6,0] Assertion `input[emb] >= 0 && input[emb] < vocab_size` failed.\n",
            "../aten/src/ATen/native/cuda/EmbeddingBag.cu:122: EmbeddingBag_updateOutputKernel_sum_mean: block: [38,0,0], thread: [25,6,0] Assertion `input[emb] >= 0 && input[emb] < vocab_size` failed.\n",
            "../aten/src/ATen/native/cuda/EmbeddingBag.cu:122: EmbeddingBag_updateOutputKernel_sum_mean: block: [38,0,0], thread: [26,6,0] Assertion `input[emb] >= 0 && input[emb] < vocab_size` failed.\n",
            "../aten/src/ATen/native/cuda/EmbeddingBag.cu:122: EmbeddingBag_updateOutputKernel_sum_mean: block: [38,0,0], thread: [27,6,0] Assertion `input[emb] >= 0 && input[emb] < vocab_size` failed.\n",
            "../aten/src/ATen/native/cuda/EmbeddingBag.cu:122: EmbeddingBag_updateOutputKernel_sum_mean: block: [38,0,0], thread: [28,6,0] Assertion `input[emb] >= 0 && input[emb] < vocab_size` failed.\n",
            "../aten/src/ATen/native/cuda/EmbeddingBag.cu:122: EmbeddingBag_updateOutputKernel_sum_mean: block: [38,0,0], thread: [29,6,0] Assertion `input[emb] >= 0 && input[emb] < vocab_size` failed.\n",
            "../aten/src/ATen/native/cuda/EmbeddingBag.cu:122: EmbeddingBag_updateOutputKernel_sum_mean: block: [38,0,0], thread: [30,6,0] Assertion `input[emb] >= 0 && input[emb] < vocab_size` failed.\n",
            "../aten/src/ATen/native/cuda/EmbeddingBag.cu:122: EmbeddingBag_updateOutputKernel_sum_mean: block: [38,0,0], thread: [31,6,0] Assertion `input[emb] >= 0 && input[emb] < vocab_size` failed.\n",
            "../aten/src/ATen/native/cuda/EmbeddingBag.cu:122: EmbeddingBag_updateOutputKernel_sum_mean: block: [38,0,0], thread: [0,5,0] Assertion `input[emb] >= 0 && input[emb] < vocab_size` failed.\n",
            "../aten/src/ATen/native/cuda/EmbeddingBag.cu:122: EmbeddingBag_updateOutputKernel_sum_mean: block: [38,0,0], thread: [1,5,0] Assertion `input[emb] >= 0 && input[emb] < vocab_size` failed.\n",
            "../aten/src/ATen/native/cuda/EmbeddingBag.cu:122: EmbeddingBag_updateOutputKernel_sum_mean: block: [38,0,0], thread: [2,5,0] Assertion `input[emb] >= 0 && input[emb] < vocab_size` failed.\n",
            "../aten/src/ATen/native/cuda/EmbeddingBag.cu:122: EmbeddingBag_updateOutputKernel_sum_mean: block: [38,0,0], thread: [3,5,0] Assertion `input[emb] >= 0 && input[emb] < vocab_size` failed.\n",
            "../aten/src/ATen/native/cuda/EmbeddingBag.cu:122: EmbeddingBag_updateOutputKernel_sum_mean: block: [38,0,0], thread: [4,5,0] Assertion `input[emb] >= 0 && input[emb] < vocab_size` failed.\n",
            "../aten/src/ATen/native/cuda/EmbeddingBag.cu:122: EmbeddingBag_updateOutputKernel_sum_mean: block: [38,0,0], thread: [5,5,0] Assertion `input[emb] >= 0 && input[emb] < vocab_size` failed.\n",
            "../aten/src/ATen/native/cuda/EmbeddingBag.cu:122: EmbeddingBag_updateOutputKernel_sum_mean: block: [38,0,0], thread: [6,5,0] Assertion `input[emb] >= 0 && input[emb] < vocab_size` failed.\n",
            "../aten/src/ATen/native/cuda/EmbeddingBag.cu:122: EmbeddingBag_updateOutputKernel_sum_mean: block: [38,0,0], thread: [7,5,0] Assertion `input[emb] >= 0 && input[emb] < vocab_size` failed.\n",
            "../aten/src/ATen/native/cuda/EmbeddingBag.cu:122: EmbeddingBag_updateOutputKernel_sum_mean: block: [38,0,0], thread: [8,5,0] Assertion `input[emb] >= 0 && input[emb] < vocab_size` failed.\n",
            "../aten/src/ATen/native/cuda/EmbeddingBag.cu:122: EmbeddingBag_updateOutputKernel_sum_mean: block: [38,0,0], thread: [9,5,0] Assertion `input[emb] >= 0 && input[emb] < vocab_size` failed.\n",
            "../aten/src/ATen/native/cuda/EmbeddingBag.cu:122: EmbeddingBag_updateOutputKernel_sum_mean: block: [38,0,0], thread: [10,5,0] Assertion `input[emb] >= 0 && input[emb] < vocab_size` failed.\n",
            "../aten/src/ATen/native/cuda/EmbeddingBag.cu:122: EmbeddingBag_updateOutputKernel_sum_mean: block: [38,0,0], thread: [11,5,0] Assertion `input[emb] >= 0 && input[emb] < vocab_size` failed.\n",
            "../aten/src/ATen/native/cuda/EmbeddingBag.cu:122: EmbeddingBag_updateOutputKernel_sum_mean: block: [38,0,0], thread: [12,5,0] Assertion `input[emb] >= 0 && input[emb] < vocab_size` failed.\n",
            "../aten/src/ATen/native/cuda/EmbeddingBag.cu:122: EmbeddingBag_updateOutputKernel_sum_mean: block: [38,0,0], thread: [13,5,0] Assertion `input[emb] >= 0 && input[emb] < vocab_size` failed.\n",
            "../aten/src/ATen/native/cuda/EmbeddingBag.cu:122: EmbeddingBag_updateOutputKernel_sum_mean: block: [38,0,0], thread: [14,5,0] Assertion `input[emb] >= 0 && input[emb] < vocab_size` failed.\n",
            "../aten/src/ATen/native/cuda/EmbeddingBag.cu:122: EmbeddingBag_updateOutputKernel_sum_mean: block: [38,0,0], thread: [15,5,0] Assertion `input[emb] >= 0 && input[emb] < vocab_size` failed.\n",
            "../aten/src/ATen/native/cuda/EmbeddingBag.cu:122: EmbeddingBag_updateOutputKernel_sum_mean: block: [38,0,0], thread: [16,5,0] Assertion `input[emb] >= 0 && input[emb] < vocab_size` failed.\n",
            "../aten/src/ATen/native/cuda/EmbeddingBag.cu:122: EmbeddingBag_updateOutputKernel_sum_mean: block: [38,0,0], thread: [17,5,0] Assertion `input[emb] >= 0 && input[emb] < vocab_size` failed.\n",
            "../aten/src/ATen/native/cuda/EmbeddingBag.cu:122: EmbeddingBag_updateOutputKernel_sum_mean: block: [38,0,0], thread: [18,5,0] Assertion `input[emb] >= 0 && input[emb] < vocab_size` failed.\n",
            "../aten/src/ATen/native/cuda/EmbeddingBag.cu:122: EmbeddingBag_updateOutputKernel_sum_mean: block: [38,0,0], thread: [19,5,0] Assertion `input[emb] >= 0 && input[emb] < vocab_size` failed.\n",
            "../aten/src/ATen/native/cuda/EmbeddingBag.cu:122: EmbeddingBag_updateOutputKernel_sum_mean: block: [38,0,0], thread: [20,5,0] Assertion `input[emb] >= 0 && input[emb] < vocab_size` failed.\n",
            "../aten/src/ATen/native/cuda/EmbeddingBag.cu:122: EmbeddingBag_updateOutputKernel_sum_mean: block: [38,0,0], thread: [21,5,0] Assertion `input[emb] >= 0 && input[emb] < vocab_size` failed.\n",
            "../aten/src/ATen/native/cuda/EmbeddingBag.cu:122: EmbeddingBag_updateOutputKernel_sum_mean: block: [38,0,0], thread: [22,5,0] Assertion `input[emb] >= 0 && input[emb] < vocab_size` failed.\n",
            "../aten/src/ATen/native/cuda/EmbeddingBag.cu:122: EmbeddingBag_updateOutputKernel_sum_mean: block: [38,0,0], thread: [23,5,0] Assertion `input[emb] >= 0 && input[emb] < vocab_size` failed.\n",
            "../aten/src/ATen/native/cuda/EmbeddingBag.cu:122: EmbeddingBag_updateOutputKernel_sum_mean: block: [38,0,0], thread: [24,5,0] Assertion `input[emb] >= 0 && input[emb] < vocab_size` failed.\n",
            "../aten/src/ATen/native/cuda/EmbeddingBag.cu:122: EmbeddingBag_updateOutputKernel_sum_mean: block: [38,0,0], thread: [25,5,0] Assertion `input[emb] >= 0 && input[emb] < vocab_size` failed.\n",
            "../aten/src/ATen/native/cuda/EmbeddingBag.cu:122: EmbeddingBag_updateOutputKernel_sum_mean: block: [38,0,0], thread: [26,5,0] Assertion `input[emb] >= 0 && input[emb] < vocab_size` failed.\n",
            "../aten/src/ATen/native/cuda/EmbeddingBag.cu:122: EmbeddingBag_updateOutputKernel_sum_mean: block: [38,0,0], thread: [27,5,0] Assertion `input[emb] >= 0 && input[emb] < vocab_size` failed.\n",
            "../aten/src/ATen/native/cuda/EmbeddingBag.cu:122: EmbeddingBag_updateOutputKernel_sum_mean: block: [38,0,0], thread: [28,5,0] Assertion `input[emb] >= 0 && input[emb] < vocab_size` failed.\n",
            "../aten/src/ATen/native/cuda/EmbeddingBag.cu:122: EmbeddingBag_updateOutputKernel_sum_mean: block: [38,0,0], thread: [29,5,0] Assertion `input[emb] >= 0 && input[emb] < vocab_size` failed.\n",
            "../aten/src/ATen/native/cuda/EmbeddingBag.cu:122: EmbeddingBag_updateOutputKernel_sum_mean: block: [38,0,0], thread: [30,5,0] Assertion `input[emb] >= 0 && input[emb] < vocab_size` failed.\n",
            "../aten/src/ATen/native/cuda/EmbeddingBag.cu:122: EmbeddingBag_updateOutputKernel_sum_mean: block: [38,0,0], thread: [31,5,0] Assertion `input[emb] >= 0 && input[emb] < vocab_size` failed.\n",
            "../aten/src/ATen/native/cuda/EmbeddingBag.cu:122: EmbeddingBag_updateOutputKernel_sum_mean: block: [38,0,0], thread: [0,7,0] Assertion `input[emb] >= 0 && input[emb] < vocab_size` failed.\n",
            "../aten/src/ATen/native/cuda/EmbeddingBag.cu:122: EmbeddingBag_updateOutputKernel_sum_mean: block: [38,0,0], thread: [1,7,0] Assertion `input[emb] >= 0 && input[emb] < vocab_size` failed.\n",
            "../aten/src/ATen/native/cuda/EmbeddingBag.cu:122: EmbeddingBag_updateOutputKernel_sum_mean: block: [38,0,0], thread: [2,7,0] Assertion `input[emb] >= 0 && input[emb] < vocab_size` failed.\n",
            "../aten/src/ATen/native/cuda/EmbeddingBag.cu:122: EmbeddingBag_updateOutputKernel_sum_mean: block: [38,0,0], thread: [3,7,0] Assertion `input[emb] >= 0 && input[emb] < vocab_size` failed.\n",
            "../aten/src/ATen/native/cuda/EmbeddingBag.cu:122: EmbeddingBag_updateOutputKernel_sum_mean: block: [38,0,0], thread: [4,7,0] Assertion `input[emb] >= 0 && input[emb] < vocab_size` failed.\n",
            "../aten/src/ATen/native/cuda/EmbeddingBag.cu:122: EmbeddingBag_updateOutputKernel_sum_mean: block: [38,0,0], thread: [5,7,0] Assertion `input[emb] >= 0 && input[emb] < vocab_size` failed.\n",
            "../aten/src/ATen/native/cuda/EmbeddingBag.cu:122: EmbeddingBag_updateOutputKernel_sum_mean: block: [38,0,0], thread: [6,7,0] Assertion `input[emb] >= 0 && input[emb] < vocab_size` failed.\n",
            "../aten/src/ATen/native/cuda/EmbeddingBag.cu:122: EmbeddingBag_updateOutputKernel_sum_mean: block: [38,0,0], thread: [7,7,0] Assertion `input[emb] >= 0 && input[emb] < vocab_size` failed.\n",
            "../aten/src/ATen/native/cuda/EmbeddingBag.cu:122: EmbeddingBag_updateOutputKernel_sum_mean: block: [38,0,0], thread: [8,7,0] Assertion `input[emb] >= 0 && input[emb] < vocab_size` failed.\n",
            "../aten/src/ATen/native/cuda/EmbeddingBag.cu:122: EmbeddingBag_updateOutputKernel_sum_mean: block: [38,0,0], thread: [9,7,0] Assertion `input[emb] >= 0 && input[emb] < vocab_size` failed.\n",
            "../aten/src/ATen/native/cuda/EmbeddingBag.cu:122: EmbeddingBag_updateOutputKernel_sum_mean: block: [38,0,0], thread: [10,7,0] Assertion `input[emb] >= 0 && input[emb] < vocab_size` failed.\n",
            "../aten/src/ATen/native/cuda/EmbeddingBag.cu:122: EmbeddingBag_updateOutputKernel_sum_mean: block: [38,0,0], thread: [11,7,0] Assertion `input[emb] >= 0 && input[emb] < vocab_size` failed.\n",
            "../aten/src/ATen/native/cuda/EmbeddingBag.cu:122: EmbeddingBag_updateOutputKernel_sum_mean: block: [38,0,0], thread: [12,7,0] Assertion `input[emb] >= 0 && input[emb] < vocab_size` failed.\n",
            "../aten/src/ATen/native/cuda/EmbeddingBag.cu:122: EmbeddingBag_updateOutputKernel_sum_mean: block: [38,0,0], thread: [13,7,0] Assertion `input[emb] >= 0 && input[emb] < vocab_size` failed.\n",
            "../aten/src/ATen/native/cuda/EmbeddingBag.cu:122: EmbeddingBag_updateOutputKernel_sum_mean: block: [38,0,0], thread: [14,7,0] Assertion `input[emb] >= 0 && input[emb] < vocab_size` failed.\n",
            "../aten/src/ATen/native/cuda/EmbeddingBag.cu:122: EmbeddingBag_updateOutputKernel_sum_mean: block: [38,0,0], thread: [15,7,0] Assertion `input[emb] >= 0 && input[emb] < vocab_size` failed.\n",
            "../aten/src/ATen/native/cuda/EmbeddingBag.cu:122: EmbeddingBag_updateOutputKernel_sum_mean: block: [38,0,0], thread: [16,7,0] Assertion `input[emb] >= 0 && input[emb] < vocab_size` failed.\n",
            "../aten/src/ATen/native/cuda/EmbeddingBag.cu:122: EmbeddingBag_updateOutputKernel_sum_mean: block: [38,0,0], thread: [17,7,0] Assertion `input[emb] >= 0 && input[emb] < vocab_size` failed.\n",
            "../aten/src/ATen/native/cuda/EmbeddingBag.cu:122: EmbeddingBag_updateOutputKernel_sum_mean: block: [38,0,0], thread: [18,7,0] Assertion `input[emb] >= 0 && input[emb] < vocab_size` failed.\n",
            "../aten/src/ATen/native/cuda/EmbeddingBag.cu:122: EmbeddingBag_updateOutputKernel_sum_mean: block: [38,0,0], thread: [19,7,0] Assertion `input[emb] >= 0 && input[emb] < vocab_size` failed.\n",
            "../aten/src/ATen/native/cuda/EmbeddingBag.cu:122: EmbeddingBag_updateOutputKernel_sum_mean: block: [38,0,0], thread: [20,7,0] Assertion `input[emb] >= 0 && input[emb] < vocab_size` failed.\n",
            "../aten/src/ATen/native/cuda/EmbeddingBag.cu:122: EmbeddingBag_updateOutputKernel_sum_mean: block: [38,0,0], thread: [21,7,0] Assertion `input[emb] >= 0 && input[emb] < vocab_size` failed.\n",
            "../aten/src/ATen/native/cuda/EmbeddingBag.cu:122: EmbeddingBag_updateOutputKernel_sum_mean: block: [38,0,0], thread: [22,7,0] Assertion `input[emb] >= 0 && input[emb] < vocab_size` failed.\n",
            "../aten/src/ATen/native/cuda/EmbeddingBag.cu:122: EmbeddingBag_updateOutputKernel_sum_mean: block: [38,0,0], thread: [23,7,0] Assertion `input[emb] >= 0 && input[emb] < vocab_size` failed.\n",
            "../aten/src/ATen/native/cuda/EmbeddingBag.cu:122: EmbeddingBag_updateOutputKernel_sum_mean: block: [38,0,0], thread: [24,7,0] Assertion `input[emb] >= 0 && input[emb] < vocab_size` failed.\n",
            "../aten/src/ATen/native/cuda/EmbeddingBag.cu:122: EmbeddingBag_updateOutputKernel_sum_mean: block: [38,0,0], thread: [25,7,0] Assertion `input[emb] >= 0 && input[emb] < vocab_size` failed.\n",
            "../aten/src/ATen/native/cuda/EmbeddingBag.cu:122: EmbeddingBag_updateOutputKernel_sum_mean: block: [38,0,0], thread: [26,7,0] Assertion `input[emb] >= 0 && input[emb] < vocab_size` failed.\n",
            "../aten/src/ATen/native/cuda/EmbeddingBag.cu:122: EmbeddingBag_updateOutputKernel_sum_mean: block: [38,0,0], thread: [27,7,0] Assertion `input[emb] >= 0 && input[emb] < vocab_size` failed.\n",
            "../aten/src/ATen/native/cuda/EmbeddingBag.cu:122: EmbeddingBag_updateOutputKernel_sum_mean: block: [38,0,0], thread: [28,7,0] Assertion `input[emb] >= 0 && input[emb] < vocab_size` failed.\n",
            "../aten/src/ATen/native/cuda/EmbeddingBag.cu:122: EmbeddingBag_updateOutputKernel_sum_mean: block: [38,0,0], thread: [29,7,0] Assertion `input[emb] >= 0 && input[emb] < vocab_size` failed.\n",
            "../aten/src/ATen/native/cuda/EmbeddingBag.cu:122: EmbeddingBag_updateOutputKernel_sum_mean: block: [38,0,0], thread: [30,7,0] Assertion `input[emb] >= 0 && input[emb] < vocab_size` failed.\n",
            "../aten/src/ATen/native/cuda/EmbeddingBag.cu:122: EmbeddingBag_updateOutputKernel_sum_mean: block: [38,0,0], thread: [31,7,0] Assertion `input[emb] >= 0 && input[emb] < vocab_size` failed.\n",
            "../aten/src/ATen/native/cuda/EmbeddingBag.cu:122: EmbeddingBag_updateOutputKernel_sum_mean: block: [38,0,0], thread: [0,4,0] Assertion `input[emb] >= 0 && input[emb] < vocab_size` failed.\n",
            "../aten/src/ATen/native/cuda/EmbeddingBag.cu:122: EmbeddingBag_updateOutputKernel_sum_mean: block: [38,0,0], thread: [1,4,0] Assertion `input[emb] >= 0 && input[emb] < vocab_size` failed.\n",
            "../aten/src/ATen/native/cuda/EmbeddingBag.cu:122: EmbeddingBag_updateOutputKernel_sum_mean: block: [38,0,0], thread: [2,4,0] Assertion `input[emb] >= 0 && input[emb] < vocab_size` failed.\n",
            "../aten/src/ATen/native/cuda/EmbeddingBag.cu:122: EmbeddingBag_updateOutputKernel_sum_mean: block: [38,0,0], thread: [3,4,0] Assertion `input[emb] >= 0 && input[emb] < vocab_size` failed.\n",
            "../aten/src/ATen/native/cuda/EmbeddingBag.cu:122: EmbeddingBag_updateOutputKernel_sum_mean: block: [38,0,0], thread: [4,4,0] Assertion `input[emb] >= 0 && input[emb] < vocab_size` failed.\n",
            "../aten/src/ATen/native/cuda/EmbeddingBag.cu:122: EmbeddingBag_updateOutputKernel_sum_mean: block: [38,0,0], thread: [5,4,0] Assertion `input[emb] >= 0 && input[emb] < vocab_size` failed.\n",
            "../aten/src/ATen/native/cuda/EmbeddingBag.cu:122: EmbeddingBag_updateOutputKernel_sum_mean: block: [38,0,0], thread: [6,4,0] Assertion `input[emb] >= 0 && input[emb] < vocab_size` failed.\n",
            "../aten/src/ATen/native/cuda/EmbeddingBag.cu:122: EmbeddingBag_updateOutputKernel_sum_mean: block: [38,0,0], thread: [7,4,0] Assertion `input[emb] >= 0 && input[emb] < vocab_size` failed.\n",
            "../aten/src/ATen/native/cuda/EmbeddingBag.cu:122: EmbeddingBag_updateOutputKernel_sum_mean: block: [38,0,0], thread: [8,4,0] Assertion `input[emb] >= 0 && input[emb] < vocab_size` failed.\n",
            "../aten/src/ATen/native/cuda/EmbeddingBag.cu:122: EmbeddingBag_updateOutputKernel_sum_mean: block: [38,0,0], thread: [9,4,0] Assertion `input[emb] >= 0 && input[emb] < vocab_size` failed.\n",
            "../aten/src/ATen/native/cuda/EmbeddingBag.cu:122: EmbeddingBag_updateOutputKernel_sum_mean: block: [38,0,0], thread: [10,4,0] Assertion `input[emb] >= 0 && input[emb] < vocab_size` failed.\n",
            "../aten/src/ATen/native/cuda/EmbeddingBag.cu:122: EmbeddingBag_updateOutputKernel_sum_mean: block: [38,0,0], thread: [11,4,0] Assertion `input[emb] >= 0 && input[emb] < vocab_size` failed.\n",
            "../aten/src/ATen/native/cuda/EmbeddingBag.cu:122: EmbeddingBag_updateOutputKernel_sum_mean: block: [38,0,0], thread: [12,4,0] Assertion `input[emb] >= 0 && input[emb] < vocab_size` failed.\n",
            "../aten/src/ATen/native/cuda/EmbeddingBag.cu:122: EmbeddingBag_updateOutputKernel_sum_mean: block: [38,0,0], thread: [13,4,0] Assertion `input[emb] >= 0 && input[emb] < vocab_size` failed.\n",
            "../aten/src/ATen/native/cuda/EmbeddingBag.cu:122: EmbeddingBag_updateOutputKernel_sum_mean: block: [38,0,0], thread: [14,4,0] Assertion `input[emb] >= 0 && input[emb] < vocab_size` failed.\n",
            "../aten/src/ATen/native/cuda/EmbeddingBag.cu:122: EmbeddingBag_updateOutputKernel_sum_mean: block: [38,0,0], thread: [15,4,0] Assertion `input[emb] >= 0 && input[emb] < vocab_size` failed.\n",
            "../aten/src/ATen/native/cuda/EmbeddingBag.cu:122: EmbeddingBag_updateOutputKernel_sum_mean: block: [38,0,0], thread: [16,4,0] Assertion `input[emb] >= 0 && input[emb] < vocab_size` failed.\n",
            "../aten/src/ATen/native/cuda/EmbeddingBag.cu:122: EmbeddingBag_updateOutputKernel_sum_mean: block: [38,0,0], thread: [17,4,0] Assertion `input[emb] >= 0 && input[emb] < vocab_size` failed.\n",
            "../aten/src/ATen/native/cuda/EmbeddingBag.cu:122: EmbeddingBag_updateOutputKernel_sum_mean: block: [38,0,0], thread: [18,4,0] Assertion `input[emb] >= 0 && input[emb] < vocab_size` failed.\n",
            "../aten/src/ATen/native/cuda/EmbeddingBag.cu:122: EmbeddingBag_updateOutputKernel_sum_mean: block: [38,0,0], thread: [19,4,0] Assertion `input[emb] >= 0 && input[emb] < vocab_size` failed.\n",
            "../aten/src/ATen/native/cuda/EmbeddingBag.cu:122: EmbeddingBag_updateOutputKernel_sum_mean: block: [38,0,0], thread: [20,4,0] Assertion `input[emb] >= 0 && input[emb] < vocab_size` failed.\n",
            "../aten/src/ATen/native/cuda/EmbeddingBag.cu:122: EmbeddingBag_updateOutputKernel_sum_mean: block: [38,0,0], thread: [21,4,0] Assertion `input[emb] >= 0 && input[emb] < vocab_size` failed.\n",
            "../aten/src/ATen/native/cuda/EmbeddingBag.cu:122: EmbeddingBag_updateOutputKernel_sum_mean: block: [38,0,0], thread: [22,4,0] Assertion `input[emb] >= 0 && input[emb] < vocab_size` failed.\n",
            "../aten/src/ATen/native/cuda/EmbeddingBag.cu:122: EmbeddingBag_updateOutputKernel_sum_mean: block: [38,0,0], thread: [23,4,0] Assertion `input[emb] >= 0 && input[emb] < vocab_size` failed.\n",
            "../aten/src/ATen/native/cuda/EmbeddingBag.cu:122: EmbeddingBag_updateOutputKernel_sum_mean: block: [38,0,0], thread: [24,4,0] Assertion `input[emb] >= 0 && input[emb] < vocab_size` failed.\n",
            "../aten/src/ATen/native/cuda/EmbeddingBag.cu:122: EmbeddingBag_updateOutputKernel_sum_mean: block: [38,0,0], thread: [25,4,0] Assertion `input[emb] >= 0 && input[emb] < vocab_size` failed.\n",
            "../aten/src/ATen/native/cuda/EmbeddingBag.cu:122: EmbeddingBag_updateOutputKernel_sum_mean: block: [38,0,0], thread: [26,4,0] Assertion `input[emb] >= 0 && input[emb] < vocab_size` failed.\n",
            "../aten/src/ATen/native/cuda/EmbeddingBag.cu:122: EmbeddingBag_updateOutputKernel_sum_mean: block: [38,0,0], thread: [27,4,0] Assertion `input[emb] >= 0 && input[emb] < vocab_size` failed.\n",
            "../aten/src/ATen/native/cuda/EmbeddingBag.cu:122: EmbeddingBag_updateOutputKernel_sum_mean: block: [38,0,0], thread: [28,4,0] Assertion `input[emb] >= 0 && input[emb] < vocab_size` failed.\n",
            "../aten/src/ATen/native/cuda/EmbeddingBag.cu:122: EmbeddingBag_updateOutputKernel_sum_mean: block: [38,0,0], thread: [29,4,0] Assertion `input[emb] >= 0 && input[emb] < vocab_size` failed.\n",
            "../aten/src/ATen/native/cuda/EmbeddingBag.cu:122: EmbeddingBag_updateOutputKernel_sum_mean: block: [38,0,0], thread: [30,4,0] Assertion `input[emb] >= 0 && input[emb] < vocab_size` failed.\n",
            "../aten/src/ATen/native/cuda/EmbeddingBag.cu:122: EmbeddingBag_updateOutputKernel_sum_mean: block: [38,0,0], thread: [31,4,0] Assertion `input[emb] >= 0 && input[emb] < vocab_size` failed.\n",
            "../aten/src/ATen/native/cuda/EmbeddingBag.cu:122: EmbeddingBag_updateOutputKernel_sum_mean: block: [40,0,0], thread: [0,2,0] Assertion `input[emb] >= 0 && input[emb] < vocab_size` failed.\n",
            "../aten/src/ATen/native/cuda/EmbeddingBag.cu:122: EmbeddingBag_updateOutputKernel_sum_mean: block: [40,0,0], thread: [1,2,0] Assertion `input[emb] >= 0 && input[emb] < vocab_size` failed.\n",
            "../aten/src/ATen/native/cuda/EmbeddingBag.cu:122: EmbeddingBag_updateOutputKernel_sum_mean: block: [40,0,0], thread: [2,2,0] Assertion `input[emb] >= 0 && input[emb] < vocab_size` failed.\n",
            "../aten/src/ATen/native/cuda/EmbeddingBag.cu:122: EmbeddingBag_updateOutputKernel_sum_mean: block: [40,0,0], thread: [3,2,0] Assertion `input[emb] >= 0 && input[emb] < vocab_size` failed.\n",
            "../aten/src/ATen/native/cuda/EmbeddingBag.cu:122: EmbeddingBag_updateOutputKernel_sum_mean: block: [40,0,0], thread: [4,2,0] Assertion `input[emb] >= 0 && input[emb] < vocab_size` failed.\n",
            "../aten/src/ATen/native/cuda/EmbeddingBag.cu:122: EmbeddingBag_updateOutputKernel_sum_mean: block: [40,0,0], thread: [5,2,0] Assertion `input[emb] >= 0 && input[emb] < vocab_size` failed.\n",
            "../aten/src/ATen/native/cuda/EmbeddingBag.cu:122: EmbeddingBag_updateOutputKernel_sum_mean: block: [40,0,0], thread: [6,2,0] Assertion `input[emb] >= 0 && input[emb] < vocab_size` failed.\n",
            "../aten/src/ATen/native/cuda/EmbeddingBag.cu:122: EmbeddingBag_updateOutputKernel_sum_mean: block: [40,0,0], thread: [7,2,0] Assertion `input[emb] >= 0 && input[emb] < vocab_size` failed.\n",
            "../aten/src/ATen/native/cuda/EmbeddingBag.cu:122: EmbeddingBag_updateOutputKernel_sum_mean: block: [40,0,0], thread: [8,2,0] Assertion `input[emb] >= 0 && input[emb] < vocab_size` failed.\n",
            "../aten/src/ATen/native/cuda/EmbeddingBag.cu:122: EmbeddingBag_updateOutputKernel_sum_mean: block: [40,0,0], thread: [9,2,0] Assertion `input[emb] >= 0 && input[emb] < vocab_size` failed.\n",
            "../aten/src/ATen/native/cuda/EmbeddingBag.cu:122: EmbeddingBag_updateOutputKernel_sum_mean: block: [40,0,0], thread: [10,2,0] Assertion `input[emb] >= 0 && input[emb] < vocab_size` failed.\n",
            "../aten/src/ATen/native/cuda/EmbeddingBag.cu:122: EmbeddingBag_updateOutputKernel_sum_mean: block: [40,0,0], thread: [11,2,0] Assertion `input[emb] >= 0 && input[emb] < vocab_size` failed.\n",
            "../aten/src/ATen/native/cuda/EmbeddingBag.cu:122: EmbeddingBag_updateOutputKernel_sum_mean: block: [40,0,0], thread: [12,2,0] Assertion `input[emb] >= 0 && input[emb] < vocab_size` failed.\n",
            "../aten/src/ATen/native/cuda/EmbeddingBag.cu:122: EmbeddingBag_updateOutputKernel_sum_mean: block: [40,0,0], thread: [13,2,0] Assertion `input[emb] >= 0 && input[emb] < vocab_size` failed.\n",
            "../aten/src/ATen/native/cuda/EmbeddingBag.cu:122: EmbeddingBag_updateOutputKernel_sum_mean: block: [40,0,0], thread: [14,2,0] Assertion `input[emb] >= 0 && input[emb] < vocab_size` failed.\n",
            "../aten/src/ATen/native/cuda/EmbeddingBag.cu:122: EmbeddingBag_updateOutputKernel_sum_mean: block: [40,0,0], thread: [15,2,0] Assertion `input[emb] >= 0 && input[emb] < vocab_size` failed.\n",
            "../aten/src/ATen/native/cuda/EmbeddingBag.cu:122: EmbeddingBag_updateOutputKernel_sum_mean: block: [40,0,0], thread: [16,2,0] Assertion `input[emb] >= 0 && input[emb] < vocab_size` failed.\n",
            "../aten/src/ATen/native/cuda/EmbeddingBag.cu:122: EmbeddingBag_updateOutputKernel_sum_mean: block: [40,0,0], thread: [17,2,0] Assertion `input[emb] >= 0 && input[emb] < vocab_size` failed.\n",
            "../aten/src/ATen/native/cuda/EmbeddingBag.cu:122: EmbeddingBag_updateOutputKernel_sum_mean: block: [40,0,0], thread: [18,2,0] Assertion `input[emb] >= 0 && input[emb] < vocab_size` failed.\n",
            "../aten/src/ATen/native/cuda/EmbeddingBag.cu:122: EmbeddingBag_updateOutputKernel_sum_mean: block: [40,0,0], thread: [19,2,0] Assertion `input[emb] >= 0 && input[emb] < vocab_size` failed.\n",
            "../aten/src/ATen/native/cuda/EmbeddingBag.cu:122: EmbeddingBag_updateOutputKernel_sum_mean: block: [40,0,0], thread: [20,2,0] Assertion `input[emb] >= 0 && input[emb] < vocab_size` failed.\n",
            "../aten/src/ATen/native/cuda/EmbeddingBag.cu:122: EmbeddingBag_updateOutputKernel_sum_mean: block: [40,0,0], thread: [21,2,0] Assertion `input[emb] >= 0 && input[emb] < vocab_size` failed.\n",
            "../aten/src/ATen/native/cuda/EmbeddingBag.cu:122: EmbeddingBag_updateOutputKernel_sum_mean: block: [40,0,0], thread: [22,2,0] Assertion `input[emb] >= 0 && input[emb] < vocab_size` failed.\n",
            "../aten/src/ATen/native/cuda/EmbeddingBag.cu:122: EmbeddingBag_updateOutputKernel_sum_mean: block: [40,0,0], thread: [23,2,0] Assertion `input[emb] >= 0 && input[emb] < vocab_size` failed.\n",
            "../aten/src/ATen/native/cuda/EmbeddingBag.cu:122: EmbeddingBag_updateOutputKernel_sum_mean: block: [40,0,0], thread: [24,2,0] Assertion `input[emb] >= 0 && input[emb] < vocab_size` failed.\n",
            "../aten/src/ATen/native/cuda/EmbeddingBag.cu:122: EmbeddingBag_updateOutputKernel_sum_mean: block: [40,0,0], thread: [25,2,0] Assertion `input[emb] >= 0 && input[emb] < vocab_size` failed.\n",
            "../aten/src/ATen/native/cuda/EmbeddingBag.cu:122: EmbeddingBag_updateOutputKernel_sum_mean: block: [40,0,0], thread: [26,2,0] Assertion `input[emb] >= 0 && input[emb] < vocab_size` failed.\n",
            "../aten/src/ATen/native/cuda/EmbeddingBag.cu:122: EmbeddingBag_updateOutputKernel_sum_mean: block: [40,0,0], thread: [27,2,0] Assertion `input[emb] >= 0 && input[emb] < vocab_size` failed.\n",
            "../aten/src/ATen/native/cuda/EmbeddingBag.cu:122: EmbeddingBag_updateOutputKernel_sum_mean: block: [40,0,0], thread: [28,2,0] Assertion `input[emb] >= 0 && input[emb] < vocab_size` failed.\n",
            "../aten/src/ATen/native/cuda/EmbeddingBag.cu:122: EmbeddingBag_updateOutputKernel_sum_mean: block: [40,0,0], thread: [29,2,0] Assertion `input[emb] >= 0 && input[emb] < vocab_size` failed.\n",
            "../aten/src/ATen/native/cuda/EmbeddingBag.cu:122: EmbeddingBag_updateOutputKernel_sum_mean: block: [40,0,0], thread: [30,2,0] Assertion `input[emb] >= 0 && input[emb] < vocab_size` failed.\n",
            "../aten/src/ATen/native/cuda/EmbeddingBag.cu:122: EmbeddingBag_updateOutputKernel_sum_mean: block: [40,0,0], thread: [31,2,0] Assertion `input[emb] >= 0 && input[emb] < vocab_size` failed.\n",
            "../aten/src/ATen/native/cuda/EmbeddingBag.cu:122: EmbeddingBag_updateOutputKernel_sum_mean: block: [40,0,0], thread: [0,1,0] Assertion `input[emb] >= 0 && input[emb] < vocab_size` failed.\n",
            "../aten/src/ATen/native/cuda/EmbeddingBag.cu:122: EmbeddingBag_updateOutputKernel_sum_mean: block: [40,0,0], thread: [1,1,0] Assertion `input[emb] >= 0 && input[emb] < vocab_size` failed.\n",
            "../aten/src/ATen/native/cuda/EmbeddingBag.cu:122: EmbeddingBag_updateOutputKernel_sum_mean: block: [40,0,0], thread: [2,1,0] Assertion `input[emb] >= 0 && input[emb] < vocab_size` failed.\n",
            "../aten/src/ATen/native/cuda/EmbeddingBag.cu:122: EmbeddingBag_updateOutputKernel_sum_mean: block: [40,0,0], thread: [3,1,0] Assertion `input[emb] >= 0 && input[emb] < vocab_size` failed.\n",
            "../aten/src/ATen/native/cuda/EmbeddingBag.cu:122: EmbeddingBag_updateOutputKernel_sum_mean: block: [40,0,0], thread: [4,1,0] Assertion `input[emb] >= 0 && input[emb] < vocab_size` failed.\n",
            "../aten/src/ATen/native/cuda/EmbeddingBag.cu:122: EmbeddingBag_updateOutputKernel_sum_mean: block: [40,0,0], thread: [5,1,0] Assertion `input[emb] >= 0 && input[emb] < vocab_size` failed.\n",
            "../aten/src/ATen/native/cuda/EmbeddingBag.cu:122: EmbeddingBag_updateOutputKernel_sum_mean: block: [40,0,0], thread: [6,1,0] Assertion `input[emb] >= 0 && input[emb] < vocab_size` failed.\n",
            "../aten/src/ATen/native/cuda/EmbeddingBag.cu:122: EmbeddingBag_updateOutputKernel_sum_mean: block: [40,0,0], thread: [7,1,0] Assertion `input[emb] >= 0 && input[emb] < vocab_size` failed.\n",
            "../aten/src/ATen/native/cuda/EmbeddingBag.cu:122: EmbeddingBag_updateOutputKernel_sum_mean: block: [40,0,0], thread: [8,1,0] Assertion `input[emb] >= 0 && input[emb] < vocab_size` failed.\n",
            "../aten/src/ATen/native/cuda/EmbeddingBag.cu:122: EmbeddingBag_updateOutputKernel_sum_mean: block: [40,0,0], thread: [9,1,0] Assertion `input[emb] >= 0 && input[emb] < vocab_size` failed.\n",
            "../aten/src/ATen/native/cuda/EmbeddingBag.cu:122: EmbeddingBag_updateOutputKernel_sum_mean: block: [40,0,0], thread: [10,1,0] Assertion `input[emb] >= 0 && input[emb] < vocab_size` failed.\n",
            "../aten/src/ATen/native/cuda/EmbeddingBag.cu:122: EmbeddingBag_updateOutputKernel_sum_mean: block: [40,0,0], thread: [11,1,0] Assertion `input[emb] >= 0 && input[emb] < vocab_size` failed.\n",
            "../aten/src/ATen/native/cuda/EmbeddingBag.cu:122: EmbeddingBag_updateOutputKernel_sum_mean: block: [40,0,0], thread: [12,1,0] Assertion `input[emb] >= 0 && input[emb] < vocab_size` failed.\n",
            "../aten/src/ATen/native/cuda/EmbeddingBag.cu:122: EmbeddingBag_updateOutputKernel_sum_mean: block: [40,0,0], thread: [13,1,0] Assertion `input[emb] >= 0 && input[emb] < vocab_size` failed.\n",
            "../aten/src/ATen/native/cuda/EmbeddingBag.cu:122: EmbeddingBag_updateOutputKernel_sum_mean: block: [40,0,0], thread: [14,1,0] Assertion `input[emb] >= 0 && input[emb] < vocab_size` failed.\n",
            "../aten/src/ATen/native/cuda/EmbeddingBag.cu:122: EmbeddingBag_updateOutputKernel_sum_mean: block: [40,0,0], thread: [15,1,0] Assertion `input[emb] >= 0 && input[emb] < vocab_size` failed.\n",
            "../aten/src/ATen/native/cuda/EmbeddingBag.cu:122: EmbeddingBag_updateOutputKernel_sum_mean: block: [40,0,0], thread: [16,1,0] Assertion `input[emb] >= 0 && input[emb] < vocab_size` failed.\n",
            "../aten/src/ATen/native/cuda/EmbeddingBag.cu:122: EmbeddingBag_updateOutputKernel_sum_mean: block: [40,0,0], thread: [17,1,0] Assertion `input[emb] >= 0 && input[emb] < vocab_size` failed.\n",
            "../aten/src/ATen/native/cuda/EmbeddingBag.cu:122: EmbeddingBag_updateOutputKernel_sum_mean: block: [40,0,0], thread: [18,1,0] Assertion `input[emb] >= 0 && input[emb] < vocab_size` failed.\n",
            "../aten/src/ATen/native/cuda/EmbeddingBag.cu:122: EmbeddingBag_updateOutputKernel_sum_mean: block: [40,0,0], thread: [19,1,0] Assertion `input[emb] >= 0 && input[emb] < vocab_size` failed.\n",
            "../aten/src/ATen/native/cuda/EmbeddingBag.cu:122: EmbeddingBag_updateOutputKernel_sum_mean: block: [40,0,0], thread: [20,1,0] Assertion `input[emb] >= 0 && input[emb] < vocab_size` failed.\n",
            "../aten/src/ATen/native/cuda/EmbeddingBag.cu:122: EmbeddingBag_updateOutputKernel_sum_mean: block: [40,0,0], thread: [21,1,0] Assertion `input[emb] >= 0 && input[emb] < vocab_size` failed.\n",
            "../aten/src/ATen/native/cuda/EmbeddingBag.cu:122: EmbeddingBag_updateOutputKernel_sum_mean: block: [40,0,0], thread: [22,1,0] Assertion `input[emb] >= 0 && input[emb] < vocab_size` failed.\n",
            "../aten/src/ATen/native/cuda/EmbeddingBag.cu:122: EmbeddingBag_updateOutputKernel_sum_mean: block: [40,0,0], thread: [23,1,0] Assertion `input[emb] >= 0 && input[emb] < vocab_size` failed.\n",
            "../aten/src/ATen/native/cuda/EmbeddingBag.cu:122: EmbeddingBag_updateOutputKernel_sum_mean: block: [40,0,0], thread: [24,1,0] Assertion `input[emb] >= 0 && input[emb] < vocab_size` failed.\n",
            "../aten/src/ATen/native/cuda/EmbeddingBag.cu:122: EmbeddingBag_updateOutputKernel_sum_mean: block: [40,0,0], thread: [25,1,0] Assertion `input[emb] >= 0 && input[emb] < vocab_size` failed.\n",
            "../aten/src/ATen/native/cuda/EmbeddingBag.cu:122: EmbeddingBag_updateOutputKernel_sum_mean: block: [40,0,0], thread: [26,1,0] Assertion `input[emb] >= 0 && input[emb] < vocab_size` failed.\n",
            "../aten/src/ATen/native/cuda/EmbeddingBag.cu:122: EmbeddingBag_updateOutputKernel_sum_mean: block: [40,0,0], thread: [27,1,0] Assertion `input[emb] >= 0 && input[emb] < vocab_size` failed.\n",
            "../aten/src/ATen/native/cuda/EmbeddingBag.cu:122: EmbeddingBag_updateOutputKernel_sum_mean: block: [40,0,0], thread: [28,1,0] Assertion `input[emb] >= 0 && input[emb] < vocab_size` failed.\n",
            "../aten/src/ATen/native/cuda/EmbeddingBag.cu:122: EmbeddingBag_updateOutputKernel_sum_mean: block: [40,0,0], thread: [29,1,0] Assertion `input[emb] >= 0 && input[emb] < vocab_size` failed.\n",
            "../aten/src/ATen/native/cuda/EmbeddingBag.cu:122: EmbeddingBag_updateOutputKernel_sum_mean: block: [40,0,0], thread: [30,1,0] Assertion `input[emb] >= 0 && input[emb] < vocab_size` failed.\n",
            "../aten/src/ATen/native/cuda/EmbeddingBag.cu:122: EmbeddingBag_updateOutputKernel_sum_mean: block: [40,0,0], thread: [31,1,0] Assertion `input[emb] >= 0 && input[emb] < vocab_size` failed.\n",
            "../aten/src/ATen/native/cuda/EmbeddingBag.cu:122: EmbeddingBag_updateOutputKernel_sum_mean: block: [40,0,0], thread: [0,3,0] Assertion `input[emb] >= 0 && input[emb] < vocab_size` failed.\n",
            "../aten/src/ATen/native/cuda/EmbeddingBag.cu:122: EmbeddingBag_updateOutputKernel_sum_mean: block: [40,0,0], thread: [1,3,0] Assertion `input[emb] >= 0 && input[emb] < vocab_size` failed.\n",
            "../aten/src/ATen/native/cuda/EmbeddingBag.cu:122: EmbeddingBag_updateOutputKernel_sum_mean: block: [40,0,0], thread: [2,3,0] Assertion `input[emb] >= 0 && input[emb] < vocab_size` failed.\n",
            "../aten/src/ATen/native/cuda/EmbeddingBag.cu:122: EmbeddingBag_updateOutputKernel_sum_mean: block: [40,0,0], thread: [3,3,0] Assertion `input[emb] >= 0 && input[emb] < vocab_size` failed.\n",
            "../aten/src/ATen/native/cuda/EmbeddingBag.cu:122: EmbeddingBag_updateOutputKernel_sum_mean: block: [40,0,0], thread: [4,3,0] Assertion `input[emb] >= 0 && input[emb] < vocab_size` failed.\n",
            "../aten/src/ATen/native/cuda/EmbeddingBag.cu:122: EmbeddingBag_updateOutputKernel_sum_mean: block: [40,0,0], thread: [5,3,0] Assertion `input[emb] >= 0 && input[emb] < vocab_size` failed.\n",
            "../aten/src/ATen/native/cuda/EmbeddingBag.cu:122: EmbeddingBag_updateOutputKernel_sum_mean: block: [40,0,0], thread: [6,3,0] Assertion `input[emb] >= 0 && input[emb] < vocab_size` failed.\n",
            "../aten/src/ATen/native/cuda/EmbeddingBag.cu:122: EmbeddingBag_updateOutputKernel_sum_mean: block: [40,0,0], thread: [7,3,0] Assertion `input[emb] >= 0 && input[emb] < vocab_size` failed.\n",
            "../aten/src/ATen/native/cuda/EmbeddingBag.cu:122: EmbeddingBag_updateOutputKernel_sum_mean: block: [40,0,0], thread: [8,3,0] Assertion `input[emb] >= 0 && input[emb] < vocab_size` failed.\n",
            "../aten/src/ATen/native/cuda/EmbeddingBag.cu:122: EmbeddingBag_updateOutputKernel_sum_mean: block: [40,0,0], thread: [9,3,0] Assertion `input[emb] >= 0 && input[emb] < vocab_size` failed.\n",
            "../aten/src/ATen/native/cuda/EmbeddingBag.cu:122: EmbeddingBag_updateOutputKernel_sum_mean: block: [40,0,0], thread: [10,3,0] Assertion `input[emb] >= 0 && input[emb] < vocab_size` failed.\n",
            "../aten/src/ATen/native/cuda/EmbeddingBag.cu:122: EmbeddingBag_updateOutputKernel_sum_mean: block: [40,0,0], thread: [11,3,0] Assertion `input[emb] >= 0 && input[emb] < vocab_size` failed.\n",
            "../aten/src/ATen/native/cuda/EmbeddingBag.cu:122: EmbeddingBag_updateOutputKernel_sum_mean: block: [40,0,0], thread: [12,3,0] Assertion `input[emb] >= 0 && input[emb] < vocab_size` failed.\n",
            "../aten/src/ATen/native/cuda/EmbeddingBag.cu:122: EmbeddingBag_updateOutputKernel_sum_mean: block: [40,0,0], thread: [13,3,0] Assertion `input[emb] >= 0 && input[emb] < vocab_size` failed.\n",
            "../aten/src/ATen/native/cuda/EmbeddingBag.cu:122: EmbeddingBag_updateOutputKernel_sum_mean: block: [40,0,0], thread: [14,3,0] Assertion `input[emb] >= 0 && input[emb] < vocab_size` failed.\n",
            "../aten/src/ATen/native/cuda/EmbeddingBag.cu:122: EmbeddingBag_updateOutputKernel_sum_mean: block: [40,0,0], thread: [15,3,0] Assertion `input[emb] >= 0 && input[emb] < vocab_size` failed.\n",
            "../aten/src/ATen/native/cuda/EmbeddingBag.cu:122: EmbeddingBag_updateOutputKernel_sum_mean: block: [40,0,0], thread: [16,3,0] Assertion `input[emb] >= 0 && input[emb] < vocab_size` failed.\n",
            "../aten/src/ATen/native/cuda/EmbeddingBag.cu:122: EmbeddingBag_updateOutputKernel_sum_mean: block: [40,0,0], thread: [17,3,0] Assertion `input[emb] >= 0 && input[emb] < vocab_size` failed.\n",
            "../aten/src/ATen/native/cuda/EmbeddingBag.cu:122: EmbeddingBag_updateOutputKernel_sum_mean: block: [40,0,0], thread: [18,3,0] Assertion `input[emb] >= 0 && input[emb] < vocab_size` failed.\n",
            "../aten/src/ATen/native/cuda/EmbeddingBag.cu:122: EmbeddingBag_updateOutputKernel_sum_mean: block: [40,0,0], thread: [19,3,0] Assertion `input[emb] >= 0 && input[emb] < vocab_size` failed.\n",
            "../aten/src/ATen/native/cuda/EmbeddingBag.cu:122: EmbeddingBag_updateOutputKernel_sum_mean: block: [40,0,0], thread: [20,3,0] Assertion `input[emb] >= 0 && input[emb] < vocab_size` failed.\n",
            "../aten/src/ATen/native/cuda/EmbeddingBag.cu:122: EmbeddingBag_updateOutputKernel_sum_mean: block: [40,0,0], thread: [21,3,0] Assertion `input[emb] >= 0 && input[emb] < vocab_size` failed.\n",
            "../aten/src/ATen/native/cuda/EmbeddingBag.cu:122: EmbeddingBag_updateOutputKernel_sum_mean: block: [40,0,0], thread: [22,3,0] Assertion `input[emb] >= 0 && input[emb] < vocab_size` failed.\n",
            "../aten/src/ATen/native/cuda/EmbeddingBag.cu:122: EmbeddingBag_updateOutputKernel_sum_mean: block: [40,0,0], thread: [23,3,0] Assertion `input[emb] >= 0 && input[emb] < vocab_size` failed.\n",
            "../aten/src/ATen/native/cuda/EmbeddingBag.cu:122: EmbeddingBag_updateOutputKernel_sum_mean: block: [40,0,0], thread: [24,3,0] Assertion `input[emb] >= 0 && input[emb] < vocab_size` failed.\n",
            "../aten/src/ATen/native/cuda/EmbeddingBag.cu:122: EmbeddingBag_updateOutputKernel_sum_mean: block: [40,0,0], thread: [25,3,0] Assertion `input[emb] >= 0 && input[emb] < vocab_size` failed.\n",
            "../aten/src/ATen/native/cuda/EmbeddingBag.cu:122: EmbeddingBag_updateOutputKernel_sum_mean: block: [40,0,0], thread: [26,3,0] Assertion `input[emb] >= 0 && input[emb] < vocab_size` failed.\n",
            "../aten/src/ATen/native/cuda/EmbeddingBag.cu:122: EmbeddingBag_updateOutputKernel_sum_mean: block: [40,0,0], thread: [27,3,0] Assertion `input[emb] >= 0 && input[emb] < vocab_size` failed.\n",
            "../aten/src/ATen/native/cuda/EmbeddingBag.cu:122: EmbeddingBag_updateOutputKernel_sum_mean: block: [40,0,0], thread: [28,3,0] Assertion `input[emb] >= 0 && input[emb] < vocab_size` failed.\n",
            "../aten/src/ATen/native/cuda/EmbeddingBag.cu:122: EmbeddingBag_updateOutputKernel_sum_mean: block: [40,0,0], thread: [29,3,0] Assertion `input[emb] >= 0 && input[emb] < vocab_size` failed.\n",
            "../aten/src/ATen/native/cuda/EmbeddingBag.cu:122: EmbeddingBag_updateOutputKernel_sum_mean: block: [40,0,0], thread: [30,3,0] Assertion `input[emb] >= 0 && input[emb] < vocab_size` failed.\n",
            "../aten/src/ATen/native/cuda/EmbeddingBag.cu:122: EmbeddingBag_updateOutputKernel_sum_mean: block: [40,0,0], thread: [31,3,0] Assertion `input[emb] >= 0 && input[emb] < vocab_size` failed.\n",
            "../aten/src/ATen/native/cuda/EmbeddingBag.cu:122: EmbeddingBag_updateOutputKernel_sum_mean: block: [40,0,0], thread: [0,0,0] Assertion `input[emb] >= 0 && input[emb] < vocab_size` failed.\n",
            "../aten/src/ATen/native/cuda/EmbeddingBag.cu:122: EmbeddingBag_updateOutputKernel_sum_mean: block: [40,0,0], thread: [1,0,0] Assertion `input[emb] >= 0 && input[emb] < vocab_size` failed.\n",
            "../aten/src/ATen/native/cuda/EmbeddingBag.cu:122: EmbeddingBag_updateOutputKernel_sum_mean: block: [40,0,0], thread: [2,0,0] Assertion `input[emb] >= 0 && input[emb] < vocab_size` failed.\n",
            "../aten/src/ATen/native/cuda/EmbeddingBag.cu:122: EmbeddingBag_updateOutputKernel_sum_mean: block: [40,0,0], thread: [3,0,0] Assertion `input[emb] >= 0 && input[emb] < vocab_size` failed.\n",
            "../aten/src/ATen/native/cuda/EmbeddingBag.cu:122: EmbeddingBag_updateOutputKernel_sum_mean: block: [40,0,0], thread: [4,0,0] Assertion `input[emb] >= 0 && input[emb] < vocab_size` failed.\n",
            "../aten/src/ATen/native/cuda/EmbeddingBag.cu:122: EmbeddingBag_updateOutputKernel_sum_mean: block: [40,0,0], thread: [5,0,0] Assertion `input[emb] >= 0 && input[emb] < vocab_size` failed.\n",
            "../aten/src/ATen/native/cuda/EmbeddingBag.cu:122: EmbeddingBag_updateOutputKernel_sum_mean: block: [40,0,0], thread: [6,0,0] Assertion `input[emb] >= 0 && input[emb] < vocab_size` failed.\n",
            "../aten/src/ATen/native/cuda/EmbeddingBag.cu:122: EmbeddingBag_updateOutputKernel_sum_mean: block: [40,0,0], thread: [7,0,0] Assertion `input[emb] >= 0 && input[emb] < vocab_size` failed.\n",
            "../aten/src/ATen/native/cuda/EmbeddingBag.cu:122: EmbeddingBag_updateOutputKernel_sum_mean: block: [40,0,0], thread: [8,0,0] Assertion `input[emb] >= 0 && input[emb] < vocab_size` failed.\n",
            "../aten/src/ATen/native/cuda/EmbeddingBag.cu:122: EmbeddingBag_updateOutputKernel_sum_mean: block: [40,0,0], thread: [9,0,0] Assertion `input[emb] >= 0 && input[emb] < vocab_size` failed.\n",
            "../aten/src/ATen/native/cuda/EmbeddingBag.cu:122: EmbeddingBag_updateOutputKernel_sum_mean: block: [40,0,0], thread: [10,0,0] Assertion `input[emb] >= 0 && input[emb] < vocab_size` failed.\n",
            "../aten/src/ATen/native/cuda/EmbeddingBag.cu:122: EmbeddingBag_updateOutputKernel_sum_mean: block: [40,0,0], thread: [11,0,0] Assertion `input[emb] >= 0 && input[emb] < vocab_size` failed.\n",
            "../aten/src/ATen/native/cuda/EmbeddingBag.cu:122: EmbeddingBag_updateOutputKernel_sum_mean: block: [40,0,0], thread: [12,0,0] Assertion `input[emb] >= 0 && input[emb] < vocab_size` failed.\n",
            "../aten/src/ATen/native/cuda/EmbeddingBag.cu:122: EmbeddingBag_updateOutputKernel_sum_mean: block: [40,0,0], thread: [13,0,0] Assertion `input[emb] >= 0 && input[emb] < vocab_size` failed.\n",
            "../aten/src/ATen/native/cuda/EmbeddingBag.cu:122: EmbeddingBag_updateOutputKernel_sum_mean: block: [40,0,0], thread: [14,0,0] Assertion `input[emb] >= 0 && input[emb] < vocab_size` failed.\n",
            "../aten/src/ATen/native/cuda/EmbeddingBag.cu:122: EmbeddingBag_updateOutputKernel_sum_mean: block: [40,0,0], thread: [15,0,0] Assertion `input[emb] >= 0 && input[emb] < vocab_size` failed.\n",
            "../aten/src/ATen/native/cuda/EmbeddingBag.cu:122: EmbeddingBag_updateOutputKernel_sum_mean: block: [40,0,0], thread: [16,0,0] Assertion `input[emb] >= 0 && input[emb] < vocab_size` failed.\n",
            "../aten/src/ATen/native/cuda/EmbeddingBag.cu:122: EmbeddingBag_updateOutputKernel_sum_mean: block: [40,0,0], thread: [17,0,0] Assertion `input[emb] >= 0 && input[emb] < vocab_size` failed.\n",
            "../aten/src/ATen/native/cuda/EmbeddingBag.cu:122: EmbeddingBag_updateOutputKernel_sum_mean: block: [40,0,0], thread: [18,0,0] Assertion `input[emb] >= 0 && input[emb] < vocab_size` failed.\n",
            "../aten/src/ATen/native/cuda/EmbeddingBag.cu:122: EmbeddingBag_updateOutputKernel_sum_mean: block: [40,0,0], thread: [19,0,0] Assertion `input[emb] >= 0 && input[emb] < vocab_size` failed.\n",
            "../aten/src/ATen/native/cuda/EmbeddingBag.cu:122: EmbeddingBag_updateOutputKernel_sum_mean: block: [40,0,0], thread: [20,0,0] Assertion `input[emb] >= 0 && input[emb] < vocab_size` failed.\n",
            "../aten/src/ATen/native/cuda/EmbeddingBag.cu:122: EmbeddingBag_updateOutputKernel_sum_mean: block: [40,0,0], thread: [21,0,0] Assertion `input[emb] >= 0 && input[emb] < vocab_size` failed.\n",
            "../aten/src/ATen/native/cuda/EmbeddingBag.cu:122: EmbeddingBag_updateOutputKernel_sum_mean: block: [40,0,0], thread: [22,0,0] Assertion `input[emb] >= 0 && input[emb] < vocab_size` failed.\n",
            "../aten/src/ATen/native/cuda/EmbeddingBag.cu:122: EmbeddingBag_updateOutputKernel_sum_mean: block: [40,0,0], thread: [23,0,0] Assertion `input[emb] >= 0 && input[emb] < vocab_size` failed.\n",
            "../aten/src/ATen/native/cuda/EmbeddingBag.cu:122: EmbeddingBag_updateOutputKernel_sum_mean: block: [40,0,0], thread: [24,0,0] Assertion `input[emb] >= 0 && input[emb] < vocab_size` failed.\n",
            "../aten/src/ATen/native/cuda/EmbeddingBag.cu:122: EmbeddingBag_updateOutputKernel_sum_mean: block: [40,0,0], thread: [25,0,0] Assertion `input[emb] >= 0 && input[emb] < vocab_size` failed.\n",
            "../aten/src/ATen/native/cuda/EmbeddingBag.cu:122: EmbeddingBag_updateOutputKernel_sum_mean: block: [40,0,0], thread: [26,0,0] Assertion `input[emb] >= 0 && input[emb] < vocab_size` failed.\n",
            "../aten/src/ATen/native/cuda/EmbeddingBag.cu:122: EmbeddingBag_updateOutputKernel_sum_mean: block: [40,0,0], thread: [27,0,0] Assertion `input[emb] >= 0 && input[emb] < vocab_size` failed.\n",
            "../aten/src/ATen/native/cuda/EmbeddingBag.cu:122: EmbeddingBag_updateOutputKernel_sum_mean: block: [40,0,0], thread: [28,0,0] Assertion `input[emb] >= 0 && input[emb] < vocab_size` failed.\n",
            "../aten/src/ATen/native/cuda/EmbeddingBag.cu:122: EmbeddingBag_updateOutputKernel_sum_mean: block: [40,0,0], thread: [29,0,0] Assertion `input[emb] >= 0 && input[emb] < vocab_size` failed.\n",
            "../aten/src/ATen/native/cuda/EmbeddingBag.cu:122: EmbeddingBag_updateOutputKernel_sum_mean: block: [40,0,0], thread: [30,0,0] Assertion `input[emb] >= 0 && input[emb] < vocab_size` failed.\n",
            "../aten/src/ATen/native/cuda/EmbeddingBag.cu:122: EmbeddingBag_updateOutputKernel_sum_mean: block: [40,0,0], thread: [31,0,0] Assertion `input[emb] >= 0 && input[emb] < vocab_size` failed.\n",
            "Traceback (most recent call last):\n",
            "  File \"dlrm_s_pytorch.py\", line 1887, in <module>\n",
            "    run()\n",
            "  File \"dlrm_s_pytorch.py\", line 1567, in run\n",
            "    ndevices=ndevices,\n",
            "  File \"dlrm_s_pytorch.py\", line 146, in dlrm_wrap\n",
            "    return dlrm(X.to(device), lS_o, lS_i)\n",
            "  File \"/usr/local/lib/python3.7/site-packages/torch/nn/modules/module.py\", line 1110, in _call_impl\n",
            "    return forward_call(*input, **kwargs)\n",
            "  File \"dlrm_s_pytorch.py\", line 524, in forward\n",
            "    return self.sequential_forward(dense_x, lS_o, lS_i)\n",
            "  File \"dlrm_s_pytorch.py\", line 596, in sequential_forward\n",
            "    ly = self.apply_emb(lS_o, lS_i, self.emb_l, self.v_W_l)\n",
            "  File \"dlrm_s_pytorch.py\", line 455, in apply_emb\n",
            "    per_sample_weights=per_sample_weights,\n",
            "  File \"/usr/local/lib/python3.7/site-packages/torch/nn/modules/module.py\", line 1110, in _call_impl\n",
            "    return forward_call(*input, **kwargs)\n",
            "  File \"/content/dlrm/tricks/qr_embedding_bag.py\", line 160, in forward\n",
            "    print(temp)\n",
            "  File \"/content/dlrm/extend_distributed.py\", line 596, in rank0_print\n",
            "    orig_print(*args, **kwargs)\n",
            "  File \"/usr/local/lib/python3.7/site-packages/torch/_tensor.py\", line 305, in __repr__\n",
            "    return torch._tensor_str._str(self)\n",
            "  File \"/usr/local/lib/python3.7/site-packages/torch/_tensor_str.py\", line 434, in _str\n",
            "    return _str_intern(self)\n",
            "  File \"/usr/local/lib/python3.7/site-packages/torch/_tensor_str.py\", line 409, in _str_intern\n",
            "    tensor_str = _tensor_str(self, indent)\n",
            "  File \"/usr/local/lib/python3.7/site-packages/torch/_tensor_str.py\", line 264, in _tensor_str\n",
            "    formatter = _Formatter(get_summarized_data(self) if summarize else self)\n",
            "  File \"/usr/local/lib/python3.7/site-packages/torch/_tensor_str.py\", line 96, in __init__\n",
            "    value_str = '{}'.format(value)\n",
            "  File \"/usr/local/lib/python3.7/site-packages/torch/_tensor.py\", line 627, in __format__\n",
            "    return self.item().__format__(format_spec)\n",
            "RuntimeError: CUDA error: device-side assert triggered\n",
            "CUDA kernel errors might be asynchronously reported at some other API call,so the stacktrace below might be incorrect.\n",
            "For debugging consider passing CUDA_LAUNCH_BLOCKING=1.\n"
          ]
        }
      ]
    },
    {
      "cell_type": "code",
      "execution_count": null,
      "metadata": {
        "colab": {
          "base_uri": "https://localhost:8080/"
        },
        "id": "tXmcjVi3Z_il",
        "outputId": "c5acb4d5-854e-4d7b-d370-a6f6c708253f"
      },
      "outputs": [
        {
          "output_type": "execute_result",
          "data": {
            "text/plain": [
              "PrEmbeddingBag(\n",
              "  (embs): EmbeddingBag(1000, 64, mode=sum)\n",
              "  (proj): Linear(in_features=64, out_features=128, bias=False)\n",
              ")"
            ]
          },
          "metadata": {},
          "execution_count": 45
        }
      ],
      "source": [
        "import tricks.md_embedding_bag as md"
      ]
    },
    {
      "cell_type": "code",
      "execution_count": null,
      "metadata": {
        "colab": {
          "base_uri": "https://localhost:8080/"
        },
        "id": "d_pi8ORAaKuI",
        "outputId": "3d668052-3ab2-40b0-97bc-73810180caf4"
      },
      "outputs": [
        {
          "output_type": "stream",
          "name": "stdout",
          "text": [
            "world size: 1, current rank: 0, local rank: 0\n",
            "Using 1 GPU(s)...\n",
            "time/loss/accuracy (if enabled):\n",
            "Finished training it 1/5 of epoch 0, -1.00 ms/it, loss 0.086535\n",
            "Finished training it 2/5 of epoch 0, -1.00 ms/it, loss 0.086193\n",
            "Finished training it 3/5 of epoch 0, -1.00 ms/it, loss 0.086092\n",
            "Finished training it 4/5 of epoch 0, -1.00 ms/it, loss 0.086901\n",
            "Finished training it 5/5 of epoch 0, -1.00 ms/it, loss 0.086272\n"
          ]
        }
      ],
      "source": [
        "!python dlrm_s_pytorch.py --arch-sparse-feature-size=128 --arch-embedding-size=\"1000000-1000000\" --arch-mlp-bot=\"13-256-128\" --arch-mlp-top=\"16-8-4-1\" \\\n",
        "                          --data-generation random --mini-batch-size=20000 --data-size=100000 \\\n",
        "                          --use-gpu \\\n",
        "                          --md-flag --md-threshold 10000 --md-temperature 0.9"
      ]
    },
    {
      "cell_type": "code",
      "source": [
        "s.mem_report()"
      ],
      "metadata": {
        "colab": {
          "base_uri": "https://localhost:8080/"
        },
        "id": "Rw-VXKY0eOPE",
        "outputId": "4b41eb95-4d50-4a71-8321-f50438246101"
      },
      "execution_count": null,
      "outputs": [
        {
          "output_type": "stream",
          "name": "stdout",
          "text": [
            "CPU RAM Free: 8.8 GB\n",
            "GPU 0 ... Mem Free: 13859MB / 15109MB | Utilization   8%\n"
          ]
        }
      ]
    },
    {
      "cell_type": "markdown",
      "metadata": {
        "id": "q2Hw6mbSaMLS"
      },
      "source": [
        "###parallelism"
      ]
    },
    {
      "cell_type": "markdown",
      "metadata": {
        "id": "2OKIxa54aQ3k"
      },
      "source": [
        "![image.png](data:image/png;base64,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)"
      ]
    },
    {
      "cell_type": "code",
      "execution_count": null,
      "metadata": {
        "id": "25hT5aejaN4U"
      },
      "outputs": [],
      "source": [
        "def forward(self, dense_x, lS_o, lS_i):\n",
        "    if ext_dist.my_size > 1:\n",
        "        # multi-node multi-device run\n",
        "        return self.distributed_forward(dense_x, lS_o, lS_i)\n",
        "    elif self.ndevices <= 1:\n",
        "        # single device run\n",
        "        return self.sequential_forward(dense_x, lS_o, lS_i)\n",
        "    else:\n",
        "        # single-node multi-device run\n",
        "        return self.parallel_forward(dense_x, lS_o, lS_i)"
      ]
    },
    {
      "cell_type": "markdown",
      "metadata": {
        "id": "yxlslTwfq6H6"
      },
      "source": [
        "##2.1 DLRM example"
      ]
    },
    {
      "cell_type": "code",
      "execution_count": null,
      "metadata": {
        "id": "FCb10Uw0oJqm"
      },
      "outputs": [],
      "source": [
        "#!git clone https://github.com/pytorch/torchrec"
      ]
    },
    {
      "cell_type": "code",
      "execution_count": null,
      "metadata": {
        "colab": {
          "base_uri": "https://localhost:8080/"
        },
        "id": "d6Jw1ZrmnEll",
        "outputId": "dd4101ef-719d-45bd-bcba-a49a643d100f"
      },
      "outputs": [
        {
          "output_type": "stream",
          "name": "stdout",
          "text": [
            "aws_component.py  dlrm_main.py      __init__.py  README.MD\n",
            "\u001b[0m\u001b[01;34mdata\u001b[0m/             dlrm_packager.py  \u001b[01;34mmodules\u001b[0m/     \u001b[01;34mtests\u001b[0m/\n"
          ]
        }
      ],
      "source": [
        "ls"
      ]
    },
    {
      "cell_type": "code",
      "execution_count": null,
      "metadata": {
        "id": "e200y25RrCle"
      },
      "outputs": [],
      "source": [
        "!cd /content/dlrm/torchrec_dlrm"
      ]
    },
    {
      "cell_type": "code",
      "execution_count": null,
      "metadata": {
        "colab": {
          "base_uri": "https://localhost:8080/"
        },
        "id": "1uwrK13Pi73f",
        "outputId": "111a726f-3f49-4127-fd5f-428741db655e"
      },
      "outputs": [
        {
          "output_type": "stream",
          "name": "stdout",
          "text": [
            "Collecting package metadata (current_repodata.json): - \b\b\\ \b\b| \b\b/ \b\b- \b\b\\ \b\b| \b\b/ \b\b- \b\b\\ \b\b| \b\b/ \b\b- \b\b\\ \b\b| \b\b/ \b\b- \b\b\\ \b\b| \b\b/ \b\b- \b\b\\ \b\b| \b\b/ \b\b- \b\b\\ \b\b| \b\b/ \b\b- \b\b\\ \b\b| \b\b/ \b\b- \b\b\\ \b\b| \b\b/ \b\b- \b\b\\ \b\b| \b\b/ \b\b- \b\b\\ \b\b| \b\b/ \b\b- \b\b\\ \b\b| \b\b/ \b\b- \b\b\\ \b\b| \b\b/ \b\b- \b\b\\ \b\b| \b\b/ \b\b- \b\b\\ \b\b| \b\b/ \b\b- \b\b\\ \b\b| \b\b/ \b\b- \b\b\\ \b\b| \b\b/ \b\b- \b\b\\ \b\b| \b\b/ \b\b- \b\b\\ \b\b| \b\b/ \b\b- \b\b\\ \b\b| \b\b/ \b\b- \b\b\\ \b\b| \b\b/ \b\b- \b\b\\ \b\b| \b\b/ \b\b- \b\b\\ \b\b| \b\b/ \b\b- \b\b\\ \b\b| \b\b/ \b\b- \b\b\\ \b\b| \b\bdone\n",
            "Solving environment: - \b\b\\ \b\b| \b\b/ \b\b- \b\b\\ \b\b| \b\b/ \b\b- \b\b\\ \b\b| \b\b/ \b\b- \b\b\\ \b\b| \b\b/ \b\b- \b\b\\ \b\b| \b\b/ \b\b- \b\b\\ \b\b| \b\b/ \b\b- \b\b\\ \b\b| \b\b/ \b\b- \b\b\\ \b\b| \b\b/ \b\b- \b\b\\ \b\b| \b\b/ \b\b- \b\b\\ \b\b| \b\b/ \b\b- \b\b\\ \b\b| \b\b/ \b\b- \b\b\\ \b\b| \b\b/ \b\b- \b\b\\ \b\bdone\n",
            "\n",
            "# All requested packages already installed.\n",
            "\n"
          ]
        }
      ],
      "source": [
        "!conda install pytorch torchvision -c pytorch "
      ]
    },
    {
      "cell_type": "code",
      "execution_count": null,
      "metadata": {
        "colab": {
          "base_uri": "https://localhost:8080/"
        },
        "id": "urAnTF2xSFzo",
        "outputId": "e475733f-6e7c-4ca9-9657-21c22c6faad8"
      },
      "outputs": [
        {
          "output_type": "stream",
          "name": "stdout",
          "text": [
            "find: ‘/proc/28/task/28/net’: Invalid argument\n",
            "find: ‘/proc/28/net’: Invalid argument\n",
            "/usr/local/lib/python3.7/dist-packages/torch/lib/libc10_cuda.so\n"
          ]
        }
      ],
      "source": [
        "!find / -name libc10_cuda.so"
      ]
    },
    {
      "cell_type": "code",
      "execution_count": null,
      "metadata": {
        "colab": {
          "base_uri": "https://localhost:8080/"
        },
        "id": "e5rYWlZySjfK",
        "outputId": "2eaaefa9-2f1b-4bb6-843b-50ff985ddc60"
      },
      "outputs": [
        {
          "name": "stdout",
          "output_type": "stream",
          "text": [
            "find: ‘/proc/28/task/28/net’: Invalid argument\n",
            "find: ‘/proc/28/net’: Invalid argument\n",
            "/usr/local/lib/python3.7/dist-packages/torch/lib/libnvToolsExt-24de1d56.so.1\n"
          ]
        }
      ],
      "source": [
        "!find / -name libnvToolsExt-24de1d56.so.1"
      ]
    },
    {
      "cell_type": "code",
      "execution_count": null,
      "metadata": {
        "id": "9B4yA0xGSMJ2"
      },
      "outputs": [],
      "source": [
        "!ln -s /usr/local/lib/python3.7/dist-packages/torch/lib/libc10_cuda.so /usr/lib64-nvidia/"
      ]
    },
    {
      "cell_type": "code",
      "execution_count": null,
      "metadata": {
        "id": "uJTxQi5NSoSr"
      },
      "outputs": [],
      "source": [
        "!ln -s /usr/local/lib/python3.7/dist-packages/torch/lib/libtorch_cuda.so /usr/lib64-nvidia/"
      ]
    },
    {
      "cell_type": "code",
      "execution_count": null,
      "metadata": {
        "id": "OglGc0XnSz8W"
      },
      "outputs": [],
      "source": [
        "!ln -s /usr/local/lib/python3.7/dist-packages/torch/lib/libtorch_cuda_cpp.so /usr/lib64-nvidia/"
      ]
    },
    {
      "cell_type": "code",
      "execution_count": null,
      "metadata": {
        "id": "gJ6i4kEfTGTe",
        "colab": {
          "base_uri": "https://localhost:8080/"
        },
        "outputId": "b09ddb23-0f01-4b9f-927c-43d96a5bae5f"
      },
      "outputs": [
        {
          "output_type": "stream",
          "name": "stdout",
          "text": [
            "ln: failed to create symbolic link '/usr/lib64-nvidia/libtorch_cuda_cu.so': File exists\n"
          ]
        }
      ],
      "source": [
        "!ln -s /usr/local/lib/python3.7/dist-packages/torch/lib/libtorch_cuda_cu.so /usr/lib64-nvidia/"
      ]
    },
    {
      "cell_type": "code",
      "execution_count": null,
      "metadata": {
        "id": "1G8ZhGXsTQTg"
      },
      "outputs": [],
      "source": [
        "!ln -s /usr/local/lib/python3.7/dist-packages/torch/lib/libgomp-a34b3233.so.1 /usr/lib64-nvidia/"
      ]
    },
    {
      "cell_type": "code",
      "execution_count": null,
      "metadata": {
        "id": "EIcEmfFPTZXy"
      },
      "outputs": [],
      "source": [
        "!ln -s /usr/local/lib/python3.7/dist-packages/torch/lib/libcudart-a7b20f20.so.11.0 /usr/lib64-nvidia/"
      ]
    },
    {
      "cell_type": "code",
      "execution_count": null,
      "metadata": {
        "id": "vkRc8WbXTmc7"
      },
      "outputs": [],
      "source": [
        "!ln -s /usr/local/lib/python3.7/dist-packages/torch/lib/libnvToolsExt-24de1d56.so.1 /usr/lib64-nvidia/"
      ]
    },
    {
      "cell_type": "code",
      "source": [
        "!pip3 uninstall torch"
      ],
      "metadata": {
        "colab": {
          "base_uri": "https://localhost:8080/"
        },
        "id": "Zf8ECPvvSB0R",
        "outputId": "adb25fd3-5ffc-4394-c497-69b0225ac665"
      },
      "execution_count": null,
      "outputs": [
        {
          "output_type": "stream",
          "name": "stdout",
          "text": [
            "Found existing installation: torch 1.11.0\n",
            "Uninstalling torch-1.11.0:\n",
            "  Would remove:\n",
            "    /usr/local/bin/convert-caffe2-to-onnx\n",
            "    /usr/local/bin/convert-onnx-to-caffe2\n",
            "    /usr/local/bin/torchrun\n",
            "    /usr/local/lib/python3.7/site-packages/caffe2/*\n",
            "    /usr/local/lib/python3.7/site-packages/torch-1.11.0.dist-info/*\n",
            "    /usr/local/lib/python3.7/site-packages/torch/*\n",
            "Proceed (y/n)? y\n",
            "  Successfully uninstalled torch-1.11.0\n"
          ]
        }
      ]
    },
    {
      "cell_type": "code",
      "source": [
        "cd torchrec_dlrm/"
      ],
      "metadata": {
        "colab": {
          "base_uri": "https://localhost:8080/"
        },
        "id": "VCqp5PjL4hhJ",
        "outputId": "515a9ce1-a5e4-4ca6-eeb9-b2f7d063ba58"
      },
      "execution_count": null,
      "outputs": [
        {
          "output_type": "stream",
          "name": "stdout",
          "text": [
            "/content/dlrm/torchrec_dlrm\n"
          ]
        }
      ]
    },
    {
      "cell_type": "code",
      "execution_count": null,
      "metadata": {
        "colab": {
          "base_uri": "https://localhost:8080/"
        },
        "id": "yQ19PB2DrGeb",
        "outputId": "5d6c934a-99e0-4a15-b6de-c96db94558e2"
      },
      "outputs": [
        {
          "output_type": "stream",
          "name": "stdout",
          "text": [
            "\u001b[34mtorchx\u001b[0m \u001b[2m2022-05-22 15:07:47 INFO    \u001b[0m Log directory not set in scheduler cfg. Creating a temporary log dir that will be deleted on exit. To preserve log directory set the `log_dir` cfg option\n",
            "\u001b[34mtorchx\u001b[0m \u001b[2m2022-05-22 15:07:47 INFO    \u001b[0m Log directory is: /tmp/torchx_c9ujg6_y\n",
            "local_cwd://torchx/dlrm_main-mhfpfr7zswn3hd\n",
            "\u001b[34mtorchx\u001b[0m \u001b[2m2022-05-22 15:07:47 INFO    \u001b[0m Waiting for the app to finish...\n",
            "\u001b[32mdlrm_main/0\u001b[0m /usr/local/bin/python: Error while finding module specification for 'torch.distributed.run' (ModuleNotFoundError: No module named 'torch')\n",
            "\u001b[34mtorchx\u001b[0m \u001b[2m2022-05-22 15:07:48 INFO    \u001b[0m Job finished: 5\n",
            "\u001b[34mtorchx\u001b[0m \u001b[2m2022-05-22 15:07:48 ERROR   \u001b[0m AppStatus:\n",
            "  msg: <NONE>\n",
            "  num_restarts: 0\n",
            "  roles: []\n",
            "  state: FAILED (5)\n",
            "  structured_error_msg: <NONE>\n",
            "  ui_url: file:///tmp/torchx_c9ujg6_y/torchx/dlrm_main-mhfpfr7zswn3hd\n",
            "\n"
          ]
        }
      ],
      "source": [
        "!torchx run -s local_cwd dist.ddp -j 1x4 --script dlrm_main.py --use-gpu"
      ]
    },
    {
      "cell_type": "code",
      "execution_count": null,
      "metadata": {
        "id": "CtOlsNuUrIVN"
      },
      "outputs": [],
      "source": [
        "from dlrm_main import * "
      ]
    },
    {
      "cell_type": "code",
      "execution_count": null,
      "metadata": {
        "colab": {
          "base_uri": "https://localhost:8080/"
        },
        "id": "bmVpZDYo6wE6",
        "outputId": "8aea0e26-7d4a-42fc-b67d-9c1abce97cda"
      },
      "outputs": [
        {
          "name": "stdout",
          "output_type": "stream",
          "text": [
            "Mounted at /content/drive\n"
          ]
        }
      ],
      "source": [
        "from google.colab import drive\n",
        "drive.mount('/content/drive')"
      ]
    },
    {
      "cell_type": "code",
      "execution_count": null,
      "metadata": {
        "colab": {
          "base_uri": "https://localhost:8080/"
        },
        "id": "ajRlG-N5XjbR",
        "outputId": "9dabeda5-6b7a-4c3a-c17a-f5de2df4e260"
      },
      "outputs": [
        {
          "name": "stdout",
          "output_type": "stream",
          "text": [
            "-rw-r--r-- 1 root root 32467 May 21 03:40 /usr/local/lib/python3.7/site-packages/torchrec/datasets/criteo.py\n"
          ]
        }
      ],
      "source": [
        "ls -al /usr/local/lib/python3.7/site-packages/torchrec/datasets/criteo.py\n"
      ]
    },
    {
      "cell_type": "code",
      "execution_count": null,
      "metadata": {
        "colab": {
          "base_uri": "https://localhost:8080/"
        },
        "id": "5funQBvhrJms",
        "outputId": "5f77a41d-f536-44ef-f823-6e7a9c553f88"
      },
      "outputs": [
        {
          "data": {
            "text/plain": [
              "[100,\n",
              " 200,\n",
              " 300,\n",
              " 400,\n",
              " 500,\n",
              " 600,\n",
              " 700,\n",
              " 800,\n",
              " 900,\n",
              " 1000,\n",
              " 1100,\n",
              " 1200,\n",
              " 1300,\n",
              " 1400,\n",
              " 1500,\n",
              " 1600,\n",
              " 1700,\n",
              " 1800,\n",
              " 1900,\n",
              " 2000,\n",
              " 2100,\n",
              " 2200,\n",
              " 2300,\n",
              " 2400,\n",
              " 2500,\n",
              " 2600]"
            ]
          },
          "execution_count": 116,
          "metadata": {},
          "output_type": "execute_result"
        }
      ],
      "source": [
        "num_embeddings_per_feature = [100*i for i in range(1, 27)]\n",
        "num_embeddings_per_feature"
      ]
    },
    {
      "cell_type": "code",
      "execution_count": null,
      "metadata": {
        "id": "84jO9juorLCo"
      },
      "outputs": [],
      "source": [
        "eb_configs = [\n",
        "    EmbeddingBagConfig(\n",
        "        name=f\"t_{feature_name}\",\n",
        "        embedding_dim=64,\n",
        "        num_embeddings=num_embeddings_per_feature[feature_idx],\n",
        "        feature_names=[feature_name],\n",
        "    )\n",
        "    for feature_idx, feature_name in enumerate(DEFAULT_CAT_NAMES)\n",
        "]"
      ]
    },
    {
      "cell_type": "code",
      "execution_count": null,
      "metadata": {
        "colab": {
          "base_uri": "https://localhost:8080/"
        },
        "id": "RVZI3wUirM1v",
        "outputId": "235fd2cf-dca1-4b10-f681-e930c76ffc85"
      },
      "outputs": [
        {
          "data": {
            "text/plain": [
              "[EmbeddingBagConfig(num_embeddings=100, embedding_dim=64, name='t_cat_0', data_type=<DataType.FP32: 'FP32'>, feature_names=['cat_0'], weight_init_max=None, weight_init_min=None, pooling=<PoolingType.SUM: 'SUM'>),\n",
              " EmbeddingBagConfig(num_embeddings=200, embedding_dim=64, name='t_cat_1', data_type=<DataType.FP32: 'FP32'>, feature_names=['cat_1'], weight_init_max=None, weight_init_min=None, pooling=<PoolingType.SUM: 'SUM'>),\n",
              " EmbeddingBagConfig(num_embeddings=300, embedding_dim=64, name='t_cat_2', data_type=<DataType.FP32: 'FP32'>, feature_names=['cat_2'], weight_init_max=None, weight_init_min=None, pooling=<PoolingType.SUM: 'SUM'>),\n",
              " EmbeddingBagConfig(num_embeddings=400, embedding_dim=64, name='t_cat_3', data_type=<DataType.FP32: 'FP32'>, feature_names=['cat_3'], weight_init_max=None, weight_init_min=None, pooling=<PoolingType.SUM: 'SUM'>),\n",
              " EmbeddingBagConfig(num_embeddings=500, embedding_dim=64, name='t_cat_4', data_type=<DataType.FP32: 'FP32'>, feature_names=['cat_4'], weight_init_max=None, weight_init_min=None, pooling=<PoolingType.SUM: 'SUM'>),\n",
              " EmbeddingBagConfig(num_embeddings=600, embedding_dim=64, name='t_cat_5', data_type=<DataType.FP32: 'FP32'>, feature_names=['cat_5'], weight_init_max=None, weight_init_min=None, pooling=<PoolingType.SUM: 'SUM'>),\n",
              " EmbeddingBagConfig(num_embeddings=700, embedding_dim=64, name='t_cat_6', data_type=<DataType.FP32: 'FP32'>, feature_names=['cat_6'], weight_init_max=None, weight_init_min=None, pooling=<PoolingType.SUM: 'SUM'>),\n",
              " EmbeddingBagConfig(num_embeddings=800, embedding_dim=64, name='t_cat_7', data_type=<DataType.FP32: 'FP32'>, feature_names=['cat_7'], weight_init_max=None, weight_init_min=None, pooling=<PoolingType.SUM: 'SUM'>),\n",
              " EmbeddingBagConfig(num_embeddings=900, embedding_dim=64, name='t_cat_8', data_type=<DataType.FP32: 'FP32'>, feature_names=['cat_8'], weight_init_max=None, weight_init_min=None, pooling=<PoolingType.SUM: 'SUM'>),\n",
              " EmbeddingBagConfig(num_embeddings=1000, embedding_dim=64, name='t_cat_9', data_type=<DataType.FP32: 'FP32'>, feature_names=['cat_9'], weight_init_max=None, weight_init_min=None, pooling=<PoolingType.SUM: 'SUM'>),\n",
              " EmbeddingBagConfig(num_embeddings=1100, embedding_dim=64, name='t_cat_10', data_type=<DataType.FP32: 'FP32'>, feature_names=['cat_10'], weight_init_max=None, weight_init_min=None, pooling=<PoolingType.SUM: 'SUM'>),\n",
              " EmbeddingBagConfig(num_embeddings=1200, embedding_dim=64, name='t_cat_11', data_type=<DataType.FP32: 'FP32'>, feature_names=['cat_11'], weight_init_max=None, weight_init_min=None, pooling=<PoolingType.SUM: 'SUM'>),\n",
              " EmbeddingBagConfig(num_embeddings=1300, embedding_dim=64, name='t_cat_12', data_type=<DataType.FP32: 'FP32'>, feature_names=['cat_12'], weight_init_max=None, weight_init_min=None, pooling=<PoolingType.SUM: 'SUM'>),\n",
              " EmbeddingBagConfig(num_embeddings=1400, embedding_dim=64, name='t_cat_13', data_type=<DataType.FP32: 'FP32'>, feature_names=['cat_13'], weight_init_max=None, weight_init_min=None, pooling=<PoolingType.SUM: 'SUM'>),\n",
              " EmbeddingBagConfig(num_embeddings=1500, embedding_dim=64, name='t_cat_14', data_type=<DataType.FP32: 'FP32'>, feature_names=['cat_14'], weight_init_max=None, weight_init_min=None, pooling=<PoolingType.SUM: 'SUM'>),\n",
              " EmbeddingBagConfig(num_embeddings=1600, embedding_dim=64, name='t_cat_15', data_type=<DataType.FP32: 'FP32'>, feature_names=['cat_15'], weight_init_max=None, weight_init_min=None, pooling=<PoolingType.SUM: 'SUM'>),\n",
              " EmbeddingBagConfig(num_embeddings=1700, embedding_dim=64, name='t_cat_16', data_type=<DataType.FP32: 'FP32'>, feature_names=['cat_16'], weight_init_max=None, weight_init_min=None, pooling=<PoolingType.SUM: 'SUM'>),\n",
              " EmbeddingBagConfig(num_embeddings=1800, embedding_dim=64, name='t_cat_17', data_type=<DataType.FP32: 'FP32'>, feature_names=['cat_17'], weight_init_max=None, weight_init_min=None, pooling=<PoolingType.SUM: 'SUM'>),\n",
              " EmbeddingBagConfig(num_embeddings=1900, embedding_dim=64, name='t_cat_18', data_type=<DataType.FP32: 'FP32'>, feature_names=['cat_18'], weight_init_max=None, weight_init_min=None, pooling=<PoolingType.SUM: 'SUM'>),\n",
              " EmbeddingBagConfig(num_embeddings=2000, embedding_dim=64, name='t_cat_19', data_type=<DataType.FP32: 'FP32'>, feature_names=['cat_19'], weight_init_max=None, weight_init_min=None, pooling=<PoolingType.SUM: 'SUM'>),\n",
              " EmbeddingBagConfig(num_embeddings=2100, embedding_dim=64, name='t_cat_20', data_type=<DataType.FP32: 'FP32'>, feature_names=['cat_20'], weight_init_max=None, weight_init_min=None, pooling=<PoolingType.SUM: 'SUM'>),\n",
              " EmbeddingBagConfig(num_embeddings=2200, embedding_dim=64, name='t_cat_21', data_type=<DataType.FP32: 'FP32'>, feature_names=['cat_21'], weight_init_max=None, weight_init_min=None, pooling=<PoolingType.SUM: 'SUM'>),\n",
              " EmbeddingBagConfig(num_embeddings=2300, embedding_dim=64, name='t_cat_22', data_type=<DataType.FP32: 'FP32'>, feature_names=['cat_22'], weight_init_max=None, weight_init_min=None, pooling=<PoolingType.SUM: 'SUM'>),\n",
              " EmbeddingBagConfig(num_embeddings=2400, embedding_dim=64, name='t_cat_23', data_type=<DataType.FP32: 'FP32'>, feature_names=['cat_23'], weight_init_max=None, weight_init_min=None, pooling=<PoolingType.SUM: 'SUM'>),\n",
              " EmbeddingBagConfig(num_embeddings=2500, embedding_dim=64, name='t_cat_24', data_type=<DataType.FP32: 'FP32'>, feature_names=['cat_24'], weight_init_max=None, weight_init_min=None, pooling=<PoolingType.SUM: 'SUM'>),\n",
              " EmbeddingBagConfig(num_embeddings=2600, embedding_dim=64, name='t_cat_25', data_type=<DataType.FP32: 'FP32'>, feature_names=['cat_25'], weight_init_max=None, weight_init_min=None, pooling=<PoolingType.SUM: 'SUM'>)]"
            ]
          },
          "execution_count": 118,
          "metadata": {},
          "output_type": "execute_result"
        }
      ],
      "source": [
        "eb_configs"
      ]
    },
    {
      "cell_type": "code",
      "execution_count": null,
      "metadata": {
        "id": "AyXCXdpfrOTg",
        "colab": {
          "base_uri": "https://localhost:8080/",
          "height": 232
        },
        "outputId": "239cd184-ff2f-431f-ccd8-0f7dfd138705"
      },
      "outputs": [
        {
          "output_type": "error",
          "ename": "NameError",
          "evalue": "ignored",
          "traceback": [
            "\u001b[0;31m---------------------------------------------------------------------------\u001b[0m",
            "\u001b[0;31mNameError\u001b[0m                                 Traceback (most recent call last)",
            "\u001b[0;32m<ipython-input-15-0a9d1749c91d>\u001b[0m in \u001b[0;36m<module>\u001b[0;34m()\u001b[0m\n\u001b[0;32m----> 1\u001b[0;31m train_model = DLRMTrain(\n\u001b[0m\u001b[1;32m      2\u001b[0m     embedding_bag_collection=EmbeddingBagCollection(\n\u001b[1;32m      3\u001b[0m         \u001b[0mtables\u001b[0m\u001b[0;34m=\u001b[0m\u001b[0meb_configs\u001b[0m\u001b[0;34m,\u001b[0m \u001b[0mdevice\u001b[0m\u001b[0;34m=\u001b[0m\u001b[0mtorch\u001b[0m\u001b[0;34m.\u001b[0m\u001b[0mdevice\u001b[0m\u001b[0;34m(\u001b[0m\u001b[0;34m\"meta\"\u001b[0m\u001b[0;34m)\u001b[0m\u001b[0;34m\u001b[0m\u001b[0;34m\u001b[0m\u001b[0m\n\u001b[1;32m      4\u001b[0m     ),\n\u001b[1;32m      5\u001b[0m     \u001b[0mdense_in_features\u001b[0m\u001b[0;34m=\u001b[0m\u001b[0mlen\u001b[0m\u001b[0;34m(\u001b[0m\u001b[0mDEFAULT_INT_NAMES\u001b[0m\u001b[0;34m)\u001b[0m\u001b[0;34m,\u001b[0m\u001b[0;34m\u001b[0m\u001b[0;34m\u001b[0m\u001b[0m\n",
            "\u001b[0;31mNameError\u001b[0m: name 'DLRMTrain' is not defined"
          ]
        }
      ],
      "source": [
        "train_model = DLRMTrain(\n",
        "    embedding_bag_collection=EmbeddingBagCollection(\n",
        "        tables=eb_configs, device=torch.device(\"meta\")\n",
        "    ),\n",
        "    dense_in_features=len(DEFAULT_INT_NAMES),\n",
        "    dense_arch_layer_sizes=[512,256,64],\n",
        "    over_arch_layer_sizes=[512,512,256,1],\n",
        "    dense_device=\"cuda:0\",\n",
        ")"
      ]
    },
    {
      "cell_type": "code",
      "execution_count": null,
      "metadata": {
        "colab": {
          "base_uri": "https://localhost:8080/"
        },
        "id": "q-9dyCftrQpx",
        "outputId": "8e2ec666-e91e-47e4-d156-8a92a5c6b5a5"
      },
      "outputs": [
        {
          "data": {
            "text/plain": [
              "DLRMTrain(\n",
              "  (model): DLRM(\n",
              "    (sparse_arch): SparseArch(\n",
              "      (embedding_bag_collection): EmbeddingBagCollection(\n",
              "        (embedding_bags): ModuleDict(\n",
              "          (t_cat_0): EmbeddingBag(100, 64, mode=sum)\n",
              "          (t_cat_1): EmbeddingBag(200, 64, mode=sum)\n",
              "          (t_cat_2): EmbeddingBag(300, 64, mode=sum)\n",
              "          (t_cat_3): EmbeddingBag(400, 64, mode=sum)\n",
              "          (t_cat_4): EmbeddingBag(500, 64, mode=sum)\n",
              "          (t_cat_5): EmbeddingBag(600, 64, mode=sum)\n",
              "          (t_cat_6): EmbeddingBag(700, 64, mode=sum)\n",
              "          (t_cat_7): EmbeddingBag(800, 64, mode=sum)\n",
              "          (t_cat_8): EmbeddingBag(900, 64, mode=sum)\n",
              "          (t_cat_9): EmbeddingBag(1000, 64, mode=sum)\n",
              "          (t_cat_10): EmbeddingBag(1100, 64, mode=sum)\n",
              "          (t_cat_11): EmbeddingBag(1200, 64, mode=sum)\n",
              "          (t_cat_12): EmbeddingBag(1300, 64, mode=sum)\n",
              "          (t_cat_13): EmbeddingBag(1400, 64, mode=sum)\n",
              "          (t_cat_14): EmbeddingBag(1500, 64, mode=sum)\n",
              "          (t_cat_15): EmbeddingBag(1600, 64, mode=sum)\n",
              "          (t_cat_16): EmbeddingBag(1700, 64, mode=sum)\n",
              "          (t_cat_17): EmbeddingBag(1800, 64, mode=sum)\n",
              "          (t_cat_18): EmbeddingBag(1900, 64, mode=sum)\n",
              "          (t_cat_19): EmbeddingBag(2000, 64, mode=sum)\n",
              "          (t_cat_20): EmbeddingBag(2100, 64, mode=sum)\n",
              "          (t_cat_21): EmbeddingBag(2200, 64, mode=sum)\n",
              "          (t_cat_22): EmbeddingBag(2300, 64, mode=sum)\n",
              "          (t_cat_23): EmbeddingBag(2400, 64, mode=sum)\n",
              "          (t_cat_24): EmbeddingBag(2500, 64, mode=sum)\n",
              "          (t_cat_25): EmbeddingBag(2600, 64, mode=sum)\n",
              "        )\n",
              "      )\n",
              "    )\n",
              "    (dense_arch): DenseArch(\n",
              "      (model): MLP(\n",
              "        (_mlp): Sequential(\n",
              "          (0): Perceptron(\n",
              "            (_linear): Linear(in_features=13, out_features=512, bias=True)\n",
              "          )\n",
              "          (1): Perceptron(\n",
              "            (_linear): Linear(in_features=512, out_features=256, bias=True)\n",
              "          )\n",
              "          (2): Perceptron(\n",
              "            (_linear): Linear(in_features=256, out_features=64, bias=True)\n",
              "          )\n",
              "        )\n",
              "      )\n",
              "    )\n",
              "    (inter_arch): InteractionArch()\n",
              "    (over_arch): OverArch(\n",
              "      (model): Sequential(\n",
              "        (0): MLP(\n",
              "          (_mlp): Sequential(\n",
              "            (0): Perceptron(\n",
              "              (_linear): Linear(in_features=415, out_features=512, bias=True)\n",
              "            )\n",
              "            (1): Perceptron(\n",
              "              (_linear): Linear(in_features=512, out_features=512, bias=True)\n",
              "            )\n",
              "            (2): Perceptron(\n",
              "              (_linear): Linear(in_features=512, out_features=256, bias=True)\n",
              "            )\n",
              "          )\n",
              "        )\n",
              "        (1): Linear(in_features=256, out_features=1, bias=True)\n",
              "      )\n",
              "    )\n",
              "  )\n",
              "  (loss_fn): BCEWithLogitsLoss()\n",
              ")"
            ]
          },
          "execution_count": 120,
          "metadata": {},
          "output_type": "execute_result"
        }
      ],
      "source": [
        "train_model"
      ]
    },
    {
      "cell_type": "code",
      "execution_count": null,
      "metadata": {
        "id": "wyGNfMjnrSFb"
      },
      "outputs": [],
      "source": [
        "from torchrec.distributed.model_parallel import *\n",
        "from torchrec.distributed.types import *\n",
        "from torchrec.distributed.planner.types import *"
      ]
    },
    {
      "cell_type": "code",
      "execution_count": null,
      "metadata": {
        "id": "Lq-L5c2trTQ4"
      },
      "outputs": [],
      "source": [
        "topology=Topology(\n",
        "    world_size=4, compute_device=\"cuda\"\n",
        ")"
      ]
    },
    {
      "cell_type": "code",
      "execution_count": null,
      "metadata": {
        "colab": {
          "base_uri": "https://localhost:8080/"
        },
        "id": "m4mmt696rTSS",
        "outputId": "56104a8c-bfe2-46c8-e8cf-abc711ff3325"
      },
      "outputs": [
        {
          "data": {
            "text/plain": [
              "world_size=4 \n",
              "compute_device=cuda\n",
              "devices=\n",
              "\tdevice 0 DeviceHardware(rank=0, storage=Storage(hbm=34359738368, ddr=137438953472), perf=0)\n",
              "\tdevice 1 DeviceHardware(rank=1, storage=Storage(hbm=34359738368, ddr=137438953472), perf=0)\n",
              "\tdevice 2 DeviceHardware(rank=2, storage=Storage(hbm=34359738368, ddr=137438953472), perf=0)\n",
              "\tdevice 3 DeviceHardware(rank=3, storage=Storage(hbm=34359738368, ddr=137438953472), perf=0)\n",
              "local_world_size=4 \n",
              "intra_host_bw=644245094.4 \n",
              "inter_host_bw=13421772.8 "
            ]
          },
          "execution_count": 123,
          "metadata": {},
          "output_type": "execute_result"
        }
      ],
      "source": [
        "topology"
      ]
    },
    {
      "cell_type": "code",
      "execution_count": null,
      "metadata": {
        "id": "JOp4TMnzrWcV"
      },
      "outputs": [],
      "source": [
        "planner = EmbeddingShardingPlanner(\n",
        "    topology=topology,\n",
        ")"
      ]
    },
    {
      "cell_type": "code",
      "execution_count": null,
      "metadata": {
        "id": "ISCTrD2ItT67"
      },
      "outputs": [],
      "source": [
        "sharders = get_default_sharders()"
      ]
    },
    {
      "cell_type": "code",
      "execution_count": null,
      "metadata": {
        "id": "yvjUI99RrXx5"
      },
      "outputs": [],
      "source": [
        "plan = planner.plan(train_model, sharders)"
      ]
    },
    {
      "cell_type": "code",
      "execution_count": null,
      "metadata": {
        "colab": {
          "base_uri": "https://localhost:8080/"
        },
        "id": "2P6KdMqMrXz3",
        "outputId": "e19adc6d-d863-40fb-b93b-908956e89e50"
      },
      "outputs": [
        {
          "data": {
            "text/plain": [
              "ShardingPlan(plan={'model.sparse_arch.embedding_bag_collection': {'t_cat_0': ParameterSharding(sharding_type='table_wise', compute_kernel='batched_fused', ranks=[1], sharding_spec=EnumerableShardingSpec(shards=[ShardMetadata(shard_offsets=[0, 0], shard_sizes=[100, 64], placement=rank:1/cuda:1)])), 't_cat_1': ParameterSharding(sharding_type='table_wise', compute_kernel='batched_fused', ranks=[0], sharding_spec=EnumerableShardingSpec(shards=[ShardMetadata(shard_offsets=[0, 0], shard_sizes=[200, 64], placement=rank:0/cuda:0)])), 't_cat_2': ParameterSharding(sharding_type='table_wise', compute_kernel='batched_fused', ranks=[3], sharding_spec=EnumerableShardingSpec(shards=[ShardMetadata(shard_offsets=[0, 0], shard_sizes=[300, 64], placement=rank:3/cuda:3)])), 't_cat_3': ParameterSharding(sharding_type='table_wise', compute_kernel='batched_fused', ranks=[2], sharding_spec=EnumerableShardingSpec(shards=[ShardMetadata(shard_offsets=[0, 0], shard_sizes=[400, 64], placement=rank:2/cuda:2)])), 't_cat_4': ParameterSharding(sharding_type='table_wise', compute_kernel='batched_fused', ranks=[1], sharding_spec=EnumerableShardingSpec(shards=[ShardMetadata(shard_offsets=[0, 0], shard_sizes=[500, 64], placement=rank:1/cuda:1)])), 't_cat_5': ParameterSharding(sharding_type='table_wise', compute_kernel='batched_fused', ranks=[0], sharding_spec=EnumerableShardingSpec(shards=[ShardMetadata(shard_offsets=[0, 0], shard_sizes=[600, 64], placement=rank:0/cuda:0)])), 't_cat_6': ParameterSharding(sharding_type='table_wise', compute_kernel='batched_fused', ranks=[3], sharding_spec=EnumerableShardingSpec(shards=[ShardMetadata(shard_offsets=[0, 0], shard_sizes=[700, 64], placement=rank:3/cuda:3)])), 't_cat_7': ParameterSharding(sharding_type='table_wise', compute_kernel='batched_fused', ranks=[2], sharding_spec=EnumerableShardingSpec(shards=[ShardMetadata(shard_offsets=[0, 0], shard_sizes=[800, 64], placement=rank:2/cuda:2)])), 't_cat_8': ParameterSharding(sharding_type='table_wise', compute_kernel='batched_fused', ranks=[1], sharding_spec=EnumerableShardingSpec(shards=[ShardMetadata(shard_offsets=[0, 0], shard_sizes=[900, 64], placement=rank:1/cuda:1)])), 't_cat_9': ParameterSharding(sharding_type='table_wise', compute_kernel='batched_fused', ranks=[0], sharding_spec=EnumerableShardingSpec(shards=[ShardMetadata(shard_offsets=[0, 0], shard_sizes=[1000, 64], placement=rank:0/cuda:0)])), 't_cat_10': ParameterSharding(sharding_type='table_wise', compute_kernel='batched_fused', ranks=[3], sharding_spec=EnumerableShardingSpec(shards=[ShardMetadata(shard_offsets=[0, 0], shard_sizes=[1100, 64], placement=rank:3/cuda:3)])), 't_cat_11': ParameterSharding(sharding_type='table_wise', compute_kernel='batched_fused', ranks=[2], sharding_spec=EnumerableShardingSpec(shards=[ShardMetadata(shard_offsets=[0, 0], shard_sizes=[1200, 64], placement=rank:2/cuda:2)])), 't_cat_12': ParameterSharding(sharding_type='table_wise', compute_kernel='batched_fused', ranks=[1], sharding_spec=EnumerableShardingSpec(shards=[ShardMetadata(shard_offsets=[0, 0], shard_sizes=[1300, 64], placement=rank:1/cuda:1)])), 't_cat_13': ParameterSharding(sharding_type='table_wise', compute_kernel='batched_fused', ranks=[0], sharding_spec=EnumerableShardingSpec(shards=[ShardMetadata(shard_offsets=[0, 0], shard_sizes=[1400, 64], placement=rank:0/cuda:0)])), 't_cat_14': ParameterSharding(sharding_type='table_wise', compute_kernel='batched_fused', ranks=[3], sharding_spec=EnumerableShardingSpec(shards=[ShardMetadata(shard_offsets=[0, 0], shard_sizes=[1500, 64], placement=rank:3/cuda:3)])), 't_cat_15': ParameterSharding(sharding_type='table_wise', compute_kernel='batched_fused', ranks=[2], sharding_spec=EnumerableShardingSpec(shards=[ShardMetadata(shard_offsets=[0, 0], shard_sizes=[1600, 64], placement=rank:2/cuda:2)])), 't_cat_16': ParameterSharding(sharding_type='table_wise', compute_kernel='batched_fused', ranks=[1], sharding_spec=EnumerableShardingSpec(shards=[ShardMetadata(shard_offsets=[0, 0], shard_sizes=[1700, 64], placement=rank:1/cuda:1)])), 't_cat_17': ParameterSharding(sharding_type='table_wise', compute_kernel='batched_fused', ranks=[0], sharding_spec=EnumerableShardingSpec(shards=[ShardMetadata(shard_offsets=[0, 0], shard_sizes=[1800, 64], placement=rank:0/cuda:0)])), 't_cat_18': ParameterSharding(sharding_type='table_wise', compute_kernel='batched_fused', ranks=[3], sharding_spec=EnumerableShardingSpec(shards=[ShardMetadata(shard_offsets=[0, 0], shard_sizes=[1900, 64], placement=rank:3/cuda:3)])), 't_cat_19': ParameterSharding(sharding_type='table_wise', compute_kernel='batched_fused', ranks=[2], sharding_spec=EnumerableShardingSpec(shards=[ShardMetadata(shard_offsets=[0, 0], shard_sizes=[2000, 64], placement=rank:2/cuda:2)])), 't_cat_20': ParameterSharding(sharding_type='table_wise', compute_kernel='batched_fused', ranks=[1], sharding_spec=EnumerableShardingSpec(shards=[ShardMetadata(shard_offsets=[0, 0], shard_sizes=[2100, 64], placement=rank:1/cuda:1)])), 't_cat_21': ParameterSharding(sharding_type='table_wise', compute_kernel='batched_fused', ranks=[0], sharding_spec=EnumerableShardingSpec(shards=[ShardMetadata(shard_offsets=[0, 0], shard_sizes=[2200, 64], placement=rank:0/cuda:0)])), 't_cat_22': ParameterSharding(sharding_type='table_wise', compute_kernel='batched_fused', ranks=[3], sharding_spec=EnumerableShardingSpec(shards=[ShardMetadata(shard_offsets=[0, 0], shard_sizes=[2300, 64], placement=rank:3/cuda:3)])), 't_cat_23': ParameterSharding(sharding_type='table_wise', compute_kernel='batched_fused', ranks=[2], sharding_spec=EnumerableShardingSpec(shards=[ShardMetadata(shard_offsets=[0, 0], shard_sizes=[2400, 64], placement=rank:2/cuda:2)])), 't_cat_24': ParameterSharding(sharding_type='table_wise', compute_kernel='batched_fused', ranks=[1], sharding_spec=EnumerableShardingSpec(shards=[ShardMetadata(shard_offsets=[0, 0], shard_sizes=[2500, 64], placement=rank:1/cuda:1)])), 't_cat_25': ParameterSharding(sharding_type='table_wise', compute_kernel='batched_fused', ranks=[0], sharding_spec=EnumerableShardingSpec(shards=[ShardMetadata(shard_offsets=[0, 0], shard_sizes=[2600, 64], placement=rank:0/cuda:0)]))}})"
            ]
          },
          "execution_count": 127,
          "metadata": {},
          "output_type": "execute_result"
        }
      ],
      "source": [
        "plan"
      ]
    },
    {
      "cell_type": "code",
      "execution_count": null,
      "metadata": {
        "id": "3KWKB1HtrbGL"
      },
      "outputs": [],
      "source": [
        "def parameter_sharding_to_str(sharding: ParameterSharding) -> str:\n",
        "    lines = []\n",
        "    lines.append(f\" sharding_type {sharding.sharding_type}\")\n",
        "    lines.append(f\" compute_kernel {sharding.compute_kernel}\")\n",
        "    lines.append(f\" ranks {sharding.ranks}\")\n",
        "    sharding_spec = sharding.sharding_spec\n",
        "    if sharding_spec is not None and isinstance(sharding_spec, EnumerableShardingSpec):\n",
        "        shards: List[ShardMetadata] = sharding_spec.shards\n",
        "        for shard in shards:\n",
        "            lines.append(f\"    shard_offsets {shard.shard_offsets}\")\n",
        "            lines.append(f\"    shard_sizes {shard.shard_sizes}\")\n",
        "            lines.append(f\"    placement {shard.placement}\")\n",
        "    lines.append(f\"    \")\n",
        "    return '\\n'.join(lines)\n",
        "\n",
        "def sharding_plan_to_str(plan: ShardingPlan) -> str:\n",
        "    lines = []\n",
        "    for fqn, d in plan.plan.items():\n",
        "        lines.append(f\"{fqn}\")\n",
        "        for param_name, param_sharding in d.items():\n",
        "            lines.append(f\"{param_name}\")\n",
        "            lines.append(parameter_sharding_to_str(param_sharding))\n",
        "    return '\\n'.join(lines)"
      ]
    },
    {
      "cell_type": "code",
      "execution_count": null,
      "metadata": {
        "colab": {
          "base_uri": "https://localhost:8080/"
        },
        "id": "9ejiFnJCrbH0",
        "outputId": "68ea8362-e705-4156-f49c-30eb8cb8b1e0"
      },
      "outputs": [
        {
          "name": "stdout",
          "output_type": "stream",
          "text": [
            "model.sparse_arch.embedding_bag_collection\n",
            "t_cat_0\n",
            " sharding_type table_wise\n",
            " compute_kernel batched_fused\n",
            " ranks [1]\n",
            "    shard_offsets [0, 0]\n",
            "    shard_sizes [100, 64]\n",
            "    placement rank:1/cuda:1\n",
            "    \n",
            "t_cat_1\n",
            " sharding_type table_wise\n",
            " compute_kernel batched_fused\n",
            " ranks [0]\n",
            "    shard_offsets [0, 0]\n",
            "    shard_sizes [200, 64]\n",
            "    placement rank:0/cuda:0\n",
            "    \n",
            "t_cat_2\n",
            " sharding_type table_wise\n",
            " compute_kernel batched_fused\n",
            " ranks [3]\n",
            "    shard_offsets [0, 0]\n",
            "    shard_sizes [300, 64]\n",
            "    placement rank:3/cuda:3\n",
            "    \n",
            "t_cat_3\n",
            " sharding_type table_wise\n",
            " compute_kernel batched_fused\n",
            " ranks [2]\n",
            "    shard_offsets [0, 0]\n",
            "    shard_sizes [400, 64]\n",
            "    placement rank:2/cuda:2\n",
            "    \n",
            "t_cat_4\n",
            " sharding_type table_wise\n",
            " compute_kernel batched_fused\n",
            " ranks [1]\n",
            "    shard_offsets [0, 0]\n",
            "    shard_sizes [500, 64]\n",
            "    placement rank:1/cuda:1\n",
            "    \n",
            "t_cat_5\n",
            " sharding_type table_wise\n",
            " compute_kernel batched_fused\n",
            " ranks [0]\n",
            "    shard_offsets [0, 0]\n",
            "    shard_sizes [600, 64]\n",
            "    placement rank:0/cuda:0\n",
            "    \n",
            "t_cat_6\n",
            " sharding_type table_wise\n",
            " compute_kernel batched_fused\n",
            " ranks [3]\n",
            "    shard_offsets [0, 0]\n",
            "    shard_sizes [700, 64]\n",
            "    placement rank:3/cuda:3\n",
            "    \n",
            "t_cat_7\n",
            " sharding_type table_wise\n",
            " compute_kernel batched_fused\n",
            " ranks [2]\n",
            "    shard_offsets [0, 0]\n",
            "    shard_sizes [800, 64]\n",
            "    placement rank:2/cuda:2\n",
            "    \n",
            "t_cat_8\n",
            " sharding_type table_wise\n",
            " compute_kernel batched_fused\n",
            " ranks [1]\n",
            "    shard_offsets [0, 0]\n",
            "    shard_sizes [900, 64]\n",
            "    placement rank:1/cuda:1\n",
            "    \n",
            "t_cat_9\n",
            " sharding_type table_wise\n",
            " compute_kernel batched_fused\n",
            " ranks [0]\n",
            "    shard_offsets [0, 0]\n",
            "    shard_sizes [1000, 64]\n",
            "    placement rank:0/cuda:0\n",
            "    \n",
            "t_cat_10\n",
            " sharding_type table_wise\n",
            " compute_kernel batched_fused\n",
            " ranks [3]\n",
            "    shard_offsets [0, 0]\n",
            "    shard_sizes [1100, 64]\n",
            "    placement rank:3/cuda:3\n",
            "    \n",
            "t_cat_11\n",
            " sharding_type table_wise\n",
            " compute_kernel batched_fused\n",
            " ranks [2]\n",
            "    shard_offsets [0, 0]\n",
            "    shard_sizes [1200, 64]\n",
            "    placement rank:2/cuda:2\n",
            "    \n",
            "t_cat_12\n",
            " sharding_type table_wise\n",
            " compute_kernel batched_fused\n",
            " ranks [1]\n",
            "    shard_offsets [0, 0]\n",
            "    shard_sizes [1300, 64]\n",
            "    placement rank:1/cuda:1\n",
            "    \n",
            "t_cat_13\n",
            " sharding_type table_wise\n",
            " compute_kernel batched_fused\n",
            " ranks [0]\n",
            "    shard_offsets [0, 0]\n",
            "    shard_sizes [1400, 64]\n",
            "    placement rank:0/cuda:0\n",
            "    \n",
            "t_cat_14\n",
            " sharding_type table_wise\n",
            " compute_kernel batched_fused\n",
            " ranks [3]\n",
            "    shard_offsets [0, 0]\n",
            "    shard_sizes [1500, 64]\n",
            "    placement rank:3/cuda:3\n",
            "    \n",
            "t_cat_15\n",
            " sharding_type table_wise\n",
            " compute_kernel batched_fused\n",
            " ranks [2]\n",
            "    shard_offsets [0, 0]\n",
            "    shard_sizes [1600, 64]\n",
            "    placement rank:2/cuda:2\n",
            "    \n",
            "t_cat_16\n",
            " sharding_type table_wise\n",
            " compute_kernel batched_fused\n",
            " ranks [1]\n",
            "    shard_offsets [0, 0]\n",
            "    shard_sizes [1700, 64]\n",
            "    placement rank:1/cuda:1\n",
            "    \n",
            "t_cat_17\n",
            " sharding_type table_wise\n",
            " compute_kernel batched_fused\n",
            " ranks [0]\n",
            "    shard_offsets [0, 0]\n",
            "    shard_sizes [1800, 64]\n",
            "    placement rank:0/cuda:0\n",
            "    \n",
            "t_cat_18\n",
            " sharding_type table_wise\n",
            " compute_kernel batched_fused\n",
            " ranks [3]\n",
            "    shard_offsets [0, 0]\n",
            "    shard_sizes [1900, 64]\n",
            "    placement rank:3/cuda:3\n",
            "    \n",
            "t_cat_19\n",
            " sharding_type table_wise\n",
            " compute_kernel batched_fused\n",
            " ranks [2]\n",
            "    shard_offsets [0, 0]\n",
            "    shard_sizes [2000, 64]\n",
            "    placement rank:2/cuda:2\n",
            "    \n",
            "t_cat_20\n",
            " sharding_type table_wise\n",
            " compute_kernel batched_fused\n",
            " ranks [1]\n",
            "    shard_offsets [0, 0]\n",
            "    shard_sizes [2100, 64]\n",
            "    placement rank:1/cuda:1\n",
            "    \n",
            "t_cat_21\n",
            " sharding_type table_wise\n",
            " compute_kernel batched_fused\n",
            " ranks [0]\n",
            "    shard_offsets [0, 0]\n",
            "    shard_sizes [2200, 64]\n",
            "    placement rank:0/cuda:0\n",
            "    \n",
            "t_cat_22\n",
            " sharding_type table_wise\n",
            " compute_kernel batched_fused\n",
            " ranks [3]\n",
            "    shard_offsets [0, 0]\n",
            "    shard_sizes [2300, 64]\n",
            "    placement rank:3/cuda:3\n",
            "    \n",
            "t_cat_23\n",
            " sharding_type table_wise\n",
            " compute_kernel batched_fused\n",
            " ranks [2]\n",
            "    shard_offsets [0, 0]\n",
            "    shard_sizes [2400, 64]\n",
            "    placement rank:2/cuda:2\n",
            "    \n",
            "t_cat_24\n",
            " sharding_type table_wise\n",
            " compute_kernel batched_fused\n",
            " ranks [1]\n",
            "    shard_offsets [0, 0]\n",
            "    shard_sizes [2500, 64]\n",
            "    placement rank:1/cuda:1\n",
            "    \n",
            "t_cat_25\n",
            " sharding_type table_wise\n",
            " compute_kernel batched_fused\n",
            " ranks [0]\n",
            "    shard_offsets [0, 0]\n",
            "    shard_sizes [2600, 64]\n",
            "    placement rank:0/cuda:0\n",
            "    \n"
          ]
        }
      ],
      "source": [
        "print(sharding_plan_to_str(plan))"
      ]
    },
    {
      "cell_type": "markdown",
      "metadata": {
        "id": "IXYaYawccrwU"
      },
      "source": [
        ""
      ]
    },
    {
      "cell_type": "code",
      "execution_count": null,
      "metadata": {
        "colab": {
          "base_uri": "https://localhost:8080/"
        },
        "id": "aifTnPGCZFJg",
        "outputId": "ab7d1d21-1d6c-476d-d63a-6f8f333b3bd2"
      },
      "outputs": [
        {
          "name": "stdout",
          "output_type": "stream",
          "text": [
            "bash: cannot set terminal process group (4795): Inappropriate ioctl for device\n",
            "bash: no job control in this shell\n",
            "\u001b[01;34m/content\u001b[00m# cd dlrm\n",
            "\u001b[01;34m/content/dlrm\u001b[00m# cd dlrm\n",
            "ag --md-threshold 50 --md-temperature 0.3& | watch nvidia-smi\n",
            "bash: syntax error near unexpected token `|'\n",
            "ag --md-threshold 50 --md-temperature 0.3& || watch nvidia-smi\n",
            "bash: syntax error near unexpected token `||'\n",
            "\u001b[01;34m/content/dlrm/dlrm\u001b[00m# \n",
            "\u001b[01;34m/content/dlrm/dlrm\u001b[00m# \n",
            "ag --md-threshold 50 --md-temperature 0.3& | watch nvidia-smi\n",
            "bash: syntax error near unexpected token `|'\n",
            "ag --md-threshold 50 --md-temperature 0.3& | nvidia-smi\n",
            "bash: syntax error near unexpected token `|'\n",
            "ag --md-threshold 50 --md-temperature 0.3\n",
            "world size: 1, current rank: 0, local rank: 0\n",
            "Using 1 GPU(s)...\n",
            "time/loss/accuracy (if enabled):\n",
            "CPU RAM Free: 11.6 GB\n",
            "GPU 0 ... Mem Free: 11033MB / 11441MB | Utilization   4%\n",
            "CPU RAM Free: 11.6 GB\n",
            "GPU 0 ... Mem Free: 11033MB / 11441MB | Utilization   4%\n",
            "Finished training it 1/50 of epoch 0, -1.00 ms/it, loss 0.151523\n",
            "CPU RAM Free: 11.6 GB\n",
            "GPU 0 ... Mem Free: 11016MB / 11441MB | Utilization   4%\n",
            "CPU RAM Free: 11.6 GB\n",
            "GPU 0 ... Mem Free: 11016MB / 11441MB | Utilization   4%\n",
            "Finished training it 2/50 of epoch 0, -1.00 ms/it, loss 0.404792\n",
            "CPU RAM Free: 11.6 GB\n",
            "GPU 0 ... Mem Free: 11016MB / 11441MB | Utilization   4%\n",
            "CPU RAM Free: 11.6 GB\n",
            "GPU 0 ... Mem Free: 11016MB / 11441MB | Utilization   4%\n",
            "Finished training it 3/50 of epoch 0, -1.00 ms/it, loss 0.458410\n",
            "CPU RAM Free: 11.6 GB\n",
            "GPU 0 ... Mem Free: 11016MB / 11441MB | Utilization   4%\n",
            "CPU RAM Free: 11.6 GB\n",
            "GPU 0 ... Mem Free: 11016MB / 11441MB | Utilization   4%\n",
            "Finished training it 4/50 of epoch 0, -1.00 ms/it, loss 0.261168\n",
            "CPU RAM Free: 11.6 GB\n",
            "GPU 0 ... Mem Free: 11016MB / 11441MB | Utilization   4%\n",
            "CPU RAM Free: 11.6 GB\n",
            "GPU 0 ... Mem Free: 11016MB / 11441MB | Utilization   4%\n",
            "Finished training it 5/50 of epoch 0, -1.00 ms/it, loss 0.625946\n",
            "CPU RAM Free: 11.6 GB\n",
            "GPU 0 ... Mem Free: 11016MB / 11441MB | Utilization   4%\n",
            "CPU RAM Free: 11.6 GB\n",
            "GPU 0 ... Mem Free: 11016MB / 11441MB | Utilization   4%\n",
            "Finished training it 6/50 of epoch 0, -1.00 ms/it, loss 0.321432\n",
            "CPU RAM Free: 11.6 GB\n",
            "GPU 0 ... Mem Free: 11016MB / 11441MB | Utilization   4%\n",
            "CPU RAM Free: 11.6 GB\n",
            "GPU 0 ... Mem Free: 11016MB / 11441MB | Utilization   4%\n",
            "Finished training it 7/50 of epoch 0, -1.00 ms/it, loss 0.038850\n",
            "CPU RAM Free: 11.6 GB\n",
            "GPU 0 ... Mem Free: 11016MB / 11441MB | Utilization   4%\n",
            "CPU RAM Free: 11.6 GB\n",
            "GPU 0 ... Mem Free: 11016MB / 11441MB | Utilization   4%\n",
            "Finished training it 8/50 of epoch 0, -1.00 ms/it, loss 0.317047\n",
            "CPU RAM Free: 11.6 GB\n",
            "GPU 0 ... Mem Free: 11016MB / 11441MB | Utilization   4%\n",
            "CPU RAM Free: 11.6 GB\n",
            "GPU 0 ... Mem Free: 11016MB / 11441MB | Utilization   4%\n",
            "Finished training it 9/50 of epoch 0, -1.00 ms/it, loss 0.472779\n",
            "CPU RAM Free: 11.6 GB\n",
            "GPU 0 ... Mem Free: 11016MB / 11441MB | Utilization   4%\n",
            "CPU RAM Free: 11.6 GB\n",
            "GPU 0 ... Mem Free: 11016MB / 11441MB | Utilization   4%\n",
            "Finished training it 10/50 of epoch 0, -1.00 ms/it, loss 0.528063\n",
            "CPU RAM Free: 11.6 GB\n",
            "GPU 0 ... Mem Free: 11016MB / 11441MB | Utilization   4%\n",
            "CPU RAM Free: 11.6 GB\n",
            "GPU 0 ... Mem Free: 11016MB / 11441MB | Utilization   4%\n",
            "Finished training it 11/50 of epoch 0, -1.00 ms/it, loss 0.448460\n",
            "CPU RAM Free: 11.6 GB\n",
            "GPU 0 ... Mem Free: 11016MB / 11441MB | Utilization   4%\n",
            "CPU RAM Free: 11.6 GB\n",
            "GPU 0 ... Mem Free: 11016MB / 11441MB | Utilization   4%\n",
            "Finished training it 12/50 of epoch 0, -1.00 ms/it, loss 0.057244\n",
            "CPU RAM Free: 11.6 GB\n",
            "GPU 0 ... Mem Free: 11016MB / 11441MB | Utilization   4%\n",
            "CPU RAM Free: 11.6 GB\n",
            "GPU 0 ... Mem Free: 11016MB / 11441MB | Utilization   4%\n",
            "Finished training it 13/50 of epoch 0, -1.00 ms/it, loss 0.207013\n",
            "CPU RAM Free: 11.6 GB\n",
            "GPU 0 ... Mem Free: 11016MB / 11441MB | Utilization   4%\n",
            "CPU RAM Free: 11.6 GB\n",
            "GPU 0 ... Mem Free: 11016MB / 11441MB | Utilization   4%\n",
            "Finished training it 14/50 of epoch 0, -1.00 ms/it, loss 0.021764\n",
            "CPU RAM Free: 11.6 GB\n",
            "GPU 0 ... Mem Free: 11016MB / 11441MB | Utilization   4%\n",
            "CPU RAM Free: 11.6 GB\n",
            "GPU 0 ... Mem Free: 11016MB / 11441MB | Utilization   4%\n",
            "Finished training it 15/50 of epoch 0, -1.00 ms/it, loss 0.370065\n",
            "CPU RAM Free: 11.6 GB\n",
            "GPU 0 ... Mem Free: 11016MB / 11441MB | Utilization   4%\n",
            "CPU RAM Free: 11.6 GB\n",
            "GPU 0 ... Mem Free: 11016MB / 11441MB | Utilization   4%\n",
            "Finished training it 16/50 of epoch 0, -1.00 ms/it, loss 0.153857\n",
            "CPU RAM Free: 11.6 GB\n",
            "GPU 0 ... Mem Free: 11016MB / 11441MB | Utilization   4%\n",
            "CPU RAM Free: 11.6 GB\n",
            "GPU 0 ... Mem Free: 11016MB / 11441MB | Utilization   4%\n",
            "Finished training it 17/50 of epoch 0, -1.00 ms/it, loss 0.037592\n",
            "CPU RAM Free: 11.6 GB\n",
            "GPU 0 ... Mem Free: 11016MB / 11441MB | Utilization   4%\n",
            "CPU RAM Free: 11.6 GB\n",
            "GPU 0 ... Mem Free: 11016MB / 11441MB | Utilization   4%\n",
            "Finished training it 18/50 of epoch 0, -1.00 ms/it, loss 0.293927\n",
            "CPU RAM Free: 11.6 GB\n",
            "GPU 0 ... Mem Free: 11016MB / 11441MB | Utilization   4%\n",
            "CPU RAM Free: 11.6 GB\n",
            "GPU 0 ... Mem Free: 11016MB / 11441MB | Utilization   4%\n",
            "Finished training it 19/50 of epoch 0, -1.00 ms/it, loss 0.209374\n",
            "CPU RAM Free: 11.6 GB\n",
            "GPU 0 ... Mem Free: 11016MB / 11441MB | Utilization   4%\n",
            "CPU RAM Free: 11.6 GB\n",
            "GPU 0 ... Mem Free: 11016MB / 11441MB | Utilization   4%\n",
            "Finished training it 20/50 of epoch 0, -1.00 ms/it, loss 0.248624\n",
            "CPU RAM Free: 11.6 GB\n",
            "GPU 0 ... Mem Free: 11016MB / 11441MB | Utilization   4%\n",
            "CPU RAM Free: 11.6 GB\n",
            "GPU 0 ... Mem Free: 11016MB / 11441MB | Utilization   4%\n",
            "Finished training it 21/50 of epoch 0, -1.00 ms/it, loss 0.104550\n",
            "CPU RAM Free: 11.6 GB\n",
            "GPU 0 ... Mem Free: 11016MB / 11441MB | Utilization   4%\n",
            "CPU RAM Free: 11.6 GB\n",
            "GPU 0 ... Mem Free: 11016MB / 11441MB | Utilization   4%\n",
            "Finished training it 22/50 of epoch 0, -1.00 ms/it, loss 0.647162\n",
            "CPU RAM Free: 11.6 GB\n",
            "GPU 0 ... Mem Free: 11016MB / 11441MB | Utilization   4%\n",
            "CPU RAM Free: 11.6 GB\n",
            "GPU 0 ... Mem Free: 11016MB / 11441MB | Utilization   4%\n",
            "Finished training it 23/50 of epoch 0, -1.00 ms/it, loss 0.289909\n",
            "CPU RAM Free: 11.6 GB\n",
            "GPU 0 ... Mem Free: 11016MB / 11441MB | Utilization   4%\n",
            "CPU RAM Free: 11.6 GB\n",
            "GPU 0 ... Mem Free: 11016MB / 11441MB | Utilization   4%\n",
            "Finished training it 24/50 of epoch 0, -1.00 ms/it, loss 0.347933\n",
            "CPU RAM Free: 11.6 GB\n",
            "GPU 0 ... Mem Free: 11016MB / 11441MB | Utilization   4%\n",
            "CPU RAM Free: 11.6 GB\n",
            "GPU 0 ... Mem Free: 11016MB / 11441MB | Utilization   4%\n",
            "Finished training it 25/50 of epoch 0, -1.00 ms/it, loss 0.080447\n",
            "CPU RAM Free: 11.6 GB\n",
            "GPU 0 ... Mem Free: 11016MB / 11441MB | Utilization   4%\n",
            "CPU RAM Free: 11.6 GB\n",
            "GPU 0 ... Mem Free: 11016MB / 11441MB | Utilization   4%\n",
            "Finished training it 26/50 of epoch 0, -1.00 ms/it, loss 0.339524\n",
            "CPU RAM Free: 11.6 GB\n",
            "GPU 0 ... Mem Free: 11016MB / 11441MB | Utilization   4%\n",
            "CPU RAM Free: 11.6 GB\n",
            "GPU 0 ... Mem Free: 11016MB / 11441MB | Utilization   4%\n",
            "Finished training it 27/50 of epoch 0, -1.00 ms/it, loss 0.171733\n",
            "CPU RAM Free: 11.6 GB\n",
            "GPU 0 ... Mem Free: 11016MB / 11441MB | Utilization   4%\n",
            "CPU RAM Free: 11.6 GB\n",
            "GPU 0 ... Mem Free: 11016MB / 11441MB | Utilization   4%\n",
            "Finished training it 28/50 of epoch 0, -1.00 ms/it, loss 0.392608\n",
            "CPU RAM Free: 11.6 GB\n",
            "GPU 0 ... Mem Free: 11016MB / 11441MB | Utilization   4%\n",
            "CPU RAM Free: 11.6 GB\n",
            "GPU 0 ... Mem Free: 11016MB / 11441MB | Utilization   4%\n",
            "Finished training it 29/50 of epoch 0, -1.00 ms/it, loss 0.050622\n",
            "CPU RAM Free: 11.6 GB\n",
            "GPU 0 ... Mem Free: 11016MB / 11441MB | Utilization   4%\n",
            "CPU RAM Free: 11.6 GB\n",
            "GPU 0 ... Mem Free: 11016MB / 11441MB | Utilization   4%\n",
            "Finished training it 30/50 of epoch 0, -1.00 ms/it, loss 0.144510\n",
            "CPU RAM Free: 11.6 GB\n",
            "GPU 0 ... Mem Free: 11016MB / 11441MB | Utilization   4%\n",
            "CPU RAM Free: 11.6 GB\n",
            "GPU 0 ... Mem Free: 11016MB / 11441MB | Utilization   4%\n",
            "Finished training it 31/50 of epoch 0, -1.00 ms/it, loss 0.160505\n",
            "CPU RAM Free: 11.6 GB\n",
            "GPU 0 ... Mem Free: 11016MB / 11441MB | Utilization   4%\n",
            "CPU RAM Free: 11.6 GB\n",
            "GPU 0 ... Mem Free: 11016MB / 11441MB | Utilization   4%\n",
            "Finished training it 32/50 of epoch 0, -1.00 ms/it, loss 0.346621\n",
            "CPU RAM Free: 11.6 GB\n",
            "GPU 0 ... Mem Free: 11016MB / 11441MB | Utilization   4%\n",
            "CPU RAM Free: 11.6 GB\n",
            "GPU 0 ... Mem Free: 11016MB / 11441MB | Utilization   4%\n",
            "Finished training it 33/50 of epoch 0, -1.00 ms/it, loss 0.659050\n",
            "CPU RAM Free: 11.6 GB\n",
            "GPU 0 ... Mem Free: 11016MB / 11441MB | Utilization   4%\n",
            "CPU RAM Free: 11.6 GB\n",
            "GPU 0 ... Mem Free: 11016MB / 11441MB | Utilization   4%\n",
            "Finished training it 34/50 of epoch 0, -1.00 ms/it, loss 0.225297\n",
            "CPU RAM Free: 11.6 GB\n",
            "GPU 0 ... Mem Free: 11016MB / 11441MB | Utilization   4%\n",
            "CPU RAM Free: 11.6 GB\n",
            "GPU 0 ... Mem Free: 11016MB / 11441MB | Utilization   4%\n",
            "Finished training it 35/50 of epoch 0, -1.00 ms/it, loss 0.140397\n",
            "CPU RAM Free: 11.6 GB\n",
            "GPU 0 ... Mem Free: 11016MB / 11441MB | Utilization   4%\n",
            "CPU RAM Free: 11.6 GB\n",
            "GPU 0 ... Mem Free: 11016MB / 11441MB | Utilization   4%\n",
            "Finished training it 36/50 of epoch 0, -1.00 ms/it, loss 0.060078\n",
            "CPU RAM Free: 11.6 GB\n",
            "GPU 0 ... Mem Free: 11016MB / 11441MB | Utilization   4%\n",
            "CPU RAM Free: 11.6 GB\n",
            "GPU 0 ... Mem Free: 11016MB / 11441MB | Utilization   4%\n",
            "Finished training it 37/50 of epoch 0, -1.00 ms/it, loss 0.453378\n",
            "CPU RAM Free: 11.6 GB\n",
            "GPU 0 ... Mem Free: 11016MB / 11441MB | Utilization   4%\n",
            "CPU RAM Free: 11.6 GB\n",
            "GPU 0 ... Mem Free: 11016MB / 11441MB | Utilization   4%\n",
            "Finished training it 38/50 of epoch 0, -1.00 ms/it, loss 0.005704\n",
            "CPU RAM Free: 11.6 GB\n",
            "GPU 0 ... Mem Free: 11016MB / 11441MB | Utilization   4%\n",
            "CPU RAM Free: 11.6 GB\n",
            "GPU 0 ... Mem Free: 11016MB / 11441MB | Utilization   4%\n",
            "Finished training it 39/50 of epoch 0, -1.00 ms/it, loss 0.299916\n",
            "CPU RAM Free: 11.6 GB\n",
            "GPU 0 ... Mem Free: 11016MB / 11441MB | Utilization   4%\n",
            "CPU RAM Free: 11.6 GB\n",
            "GPU 0 ... Mem Free: 11016MB / 11441MB | Utilization   4%\n",
            "Finished training it 40/50 of epoch 0, -1.00 ms/it, loss 0.378811\n",
            "CPU RAM Free: 11.6 GB\n",
            "GPU 0 ... Mem Free: 11016MB / 11441MB | Utilization   4%\n",
            "CPU RAM Free: 11.6 GB\n",
            "GPU 0 ... Mem Free: 11016MB / 11441MB | Utilization   4%\n",
            "Finished training it 41/50 of epoch 0, -1.00 ms/it, loss 0.225734\n",
            "CPU RAM Free: 11.6 GB\n",
            "GPU 0 ... Mem Free: 11016MB / 11441MB | Utilization   4%\n",
            "CPU RAM Free: 11.6 GB\n",
            "GPU 0 ... Mem Free: 11016MB / 11441MB | Utilization   4%\n",
            "Finished training it 42/50 of epoch 0, -1.00 ms/it, loss 0.290555\n",
            "CPU RAM Free: 11.6 GB\n",
            "GPU 0 ... Mem Free: 11016MB / 11441MB | Utilization   4%\n",
            "CPU RAM Free: 11.6 GB\n",
            "GPU 0 ... Mem Free: 11016MB / 11441MB | Utilization   4%\n",
            "Finished training it 43/50 of epoch 0, -1.00 ms/it, loss 0.481850\n",
            "CPU RAM Free: 11.6 GB\n",
            "GPU 0 ... Mem Free: 11016MB / 11441MB | Utilization   4%\n",
            "CPU RAM Free: 11.6 GB\n",
            "GPU 0 ... Mem Free: 11016MB / 11441MB | Utilization   4%\n",
            "Finished training it 44/50 of epoch 0, -1.00 ms/it, loss 0.194751\n",
            "CPU RAM Free: 11.6 GB\n",
            "GPU 0 ... Mem Free: 11016MB / 11441MB | Utilization   4%\n",
            "CPU RAM Free: 11.6 GB\n",
            "GPU 0 ... Mem Free: 11016MB / 11441MB | Utilization   4%\n",
            "Finished training it 45/50 of epoch 0, -1.00 ms/it, loss 0.319445\n",
            "CPU RAM Free: 11.6 GB\n",
            "GPU 0 ... Mem Free: 11016MB / 11441MB | Utilization   4%\n",
            "CPU RAM Free: 11.6 GB\n",
            "GPU 0 ... Mem Free: 11016MB / 11441MB | Utilization   4%\n",
            "Finished training it 46/50 of epoch 0, -1.00 ms/it, loss 0.424343\n",
            "CPU RAM Free: 11.6 GB\n",
            "GPU 0 ... Mem Free: 11016MB / 11441MB | Utilization   4%\n",
            "CPU RAM Free: 11.6 GB\n",
            "GPU 0 ... Mem Free: 11016MB / 11441MB | Utilization   4%\n",
            "Finished training it 47/50 of epoch 0, -1.00 ms/it, loss 0.272093\n",
            "CPU RAM Free: 11.6 GB\n",
            "GPU 0 ... Mem Free: 11016MB / 11441MB | Utilization   4%\n",
            "CPU RAM Free: 11.6 GB\n",
            "GPU 0 ... Mem Free: 11016MB / 11441MB | Utilization   4%\n",
            "Finished training it 48/50 of epoch 0, -1.00 ms/it, loss 0.230976\n",
            "CPU RAM Free: 11.6 GB\n",
            "GPU 0 ... Mem Free: 11016MB / 11441MB | Utilization   4%\n",
            "CPU RAM Free: 11.6 GB\n",
            "GPU 0 ... Mem Free: 11016MB / 11441MB | Utilization   4%\n",
            "Finished training it 49/50 of epoch 0, -1.00 ms/it, loss 0.493602\n",
            "CPU RAM Free: 11.6 GB\n",
            "GPU 0 ... Mem Free: 11016MB / 11441MB | Utilization   4%\n",
            "CPU RAM Free: 11.6 GB\n",
            "GPU 0 ... Mem Free: 11016MB / 11441MB | Utilization   4%\n",
            "Finished training it 50/50 of epoch 0, -1.00 ms/it, loss 0.237597\n",
            "CPU RAM Free: 11.6 GB\n",
            "GPU 0 ... Mem Free: 11016MB / 11441MB | Utilization   4%\n",
            "CPU RAM Free: 11.6 GB\n",
            "GPU 0 ... Mem Free: 11016MB / 11441MB | Utilization   4%\n",
            "\u001b[01;34m/content/dlrm/dlrm\u001b[00m# "
          ]
        }
      ],
      "source": [
        "!bash"
      ]
    }
  ],
  "metadata": {
    "accelerator": "GPU",
    "colab": {
      "name": "termproject",
      "provenance": [],
      "collapsed_sections": [],
      "toc_visible": true,
      "include_colab_link": true
    },
    "kernelspec": {
      "display_name": "Python 3",
      "name": "python3"
    },
    "language_info": {
      "name": "python"
    }
  },
  "nbformat": 4,
  "nbformat_minor": 0
}